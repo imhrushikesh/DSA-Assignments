{
 "cells": [
  {
   "cell_type": "markdown",
   "id": "472dbc7c-4134-4292-8131-f5a64861114a",
   "metadata": {},
   "source": [
    "# Assignment 18 Solutions"
   ]
  },
  {
   "cell_type": "markdown",
   "id": "62028baf-2223-4e60-8e9d-a762684094bc",
   "metadata": {},
   "source": [
    "**1. Merge Intervals**\n",
    "\n",
    "Given an array of `intervals` where `intervals[i] = [starti, endi]`, merge all overlapping intervals, and return *an array of the non-overlapping intervals that cover all the intervals in the input*.\n",
    "\n",
    "**Example 1:**\n",
    "\n",
    "Input: intervals = [[1,3],[2,6],[8,10],[15,18]]\n",
    "\n",
    "Output: [[1,6],[8,10],[15,18]]\n",
    "\n",
    "Explanation: Since intervals [1,3] and [2,6] overlap, merge them into [1,6].\n",
    "\n",
    "**Example 2:**\n",
    "\n",
    "Input: intervals = [[1,4],[4,5]]\n",
    "\n",
    "Output: [[1,5]]\n",
    "\n",
    "Explanation: Intervals [1,4] and [4,5] are considered overlapping.\n",
    "\n",
    "**Constraints:**\n",
    "\n",
    "- `1 <= intervals.length <= 10000`\n",
    "\n",
    "- `intervals[i].length == 2`\n",
    "\n",
    "- `0 <= starti <= endi <= 10000`"
   ]
  },
  {
   "cell_type": "code",
   "execution_count": 5,
   "id": "cefbe483-a95c-4615-97d1-5547a2aee77c",
   "metadata": {},
   "outputs": [],
   "source": [
    "def merge(intervals):\n",
    "    intervals.sort(key=lambda x: x[0])\n",
    "    \n",
    "    merged = [intervals[0]]\n",
    "    \n",
    "    for interval in intervals[1:]:\n",
    "        if interval[0] <= merged[-1][1]:\n",
    "            merged[-1][1] = max(merged[-1][1], interval[1])\n",
    "        else:\n",
    "            merged.append(interval)\n",
    "    \n",
    "    return merged"
   ]
  },
  {
   "cell_type": "code",
   "execution_count": 6,
   "id": "84534456-f3fa-4b50-9568-9a1fe8e93cd0",
   "metadata": {},
   "outputs": [
    {
     "name": "stdout",
     "output_type": "stream",
     "text": [
      "[[1, 6], [8, 10], [15, 18]]\n",
      "[[1, 5]]\n"
     ]
    }
   ],
   "source": [
    "intervals1 = [[1,3],[2,6],[8,10],[15,18]]\n",
    "print(merge(intervals1))  \n",
    "intervals2 = [[1,4],[4,5]]\n",
    "print(merge(intervals2))  "
   ]
  },
  {
   "cell_type": "markdown",
   "id": "cc7a095e-b9b7-4fe7-a54e-b58ee031531f",
   "metadata": {},
   "source": [
    "**2. Sort Colors**\n",
    "\n",
    "Given an array `nums` with `n` objects colored red, white, or blue, sort them **[in-place](https://en.wikipedia.org/wiki/In-place_algorithm)** so that objects of the same color are adjacent, with the colors in the order red, white, and blue.\n",
    "\n",
    "We will use the integers `0`, `1`, and `2` to represent the color red, white, and blue, respectively.\n",
    "\n",
    "You must solve this problem without using the library's sort function.\n",
    "\n",
    "**Example 1:**\n",
    "\n",
    "Input: nums = [2,0,2,1,1,0]\n",
    "\n",
    "Output: [0,0,1,1,2,2]\n",
    "\n",
    "**Example 2:**\n",
    "\n",
    "Input: nums = [2,0,1]\n",
    "\n",
    "Output: [0,1,2]\n",
    "\n",
    "**Constraints:**\n",
    "\n",
    "- `n == nums.length`\n",
    "\n",
    "- `1 <= n <= 300`\n",
    "\n",
    "- `nums[i]` is either `0`, `1`, or `2`.\n"
   ]
  },
  {
   "cell_type": "code",
   "execution_count": 7,
   "id": "b72117c0-f377-45d0-a236-99d0a0e985a1",
   "metadata": {},
   "outputs": [],
   "source": [
    "def sortColors(nums):\n",
    "    low = 0\n",
    "    mid = 0\n",
    "    high = len(nums) - 1\n",
    "\n",
    "    while mid <= high:\n",
    "        if nums[mid] == 0:\n",
    "            nums[low], nums[mid] = nums[mid], nums[low]\n",
    "            low += 1\n",
    "            mid += 1\n",
    "        elif nums[mid] == 1:\n",
    "            mid += 1\n",
    "        else:\n",
    "            nums[mid], nums[high] = nums[high], nums[mid]\n",
    "            high -= 1\n",
    "\n",
    "    return nums"
   ]
  },
  {
   "cell_type": "code",
   "execution_count": 8,
   "id": "4fe5e073-dc5f-407f-ad99-0ccfb30dce38",
   "metadata": {},
   "outputs": [
    {
     "name": "stdout",
     "output_type": "stream",
     "text": [
      "[0, 0, 1, 1, 2, 2]\n",
      "[0, 1, 2]\n"
     ]
    }
   ],
   "source": [
    "nums1 = [2, 0, 2, 1, 1, 0]\n",
    "print(sortColors(nums1))\n",
    "\n",
    "nums2 = [2, 0, 1]\n",
    "print(sortColors(nums2)) "
   ]
  },
  {
   "cell_type": "markdown",
   "id": "b4c2a99d-0e79-4c7f-8903-2a6f7787dceb",
   "metadata": {},
   "source": [
    "**3. First Bad Version Solution**\n",
    "\n",
    "You are a product manager and currently leading a team to develop a new product. Unfortunately, the latest version of your product fails the quality check. Since each version is developed based on the previous version, all the versions after a bad version are also bad.\n",
    "\n",
    "Suppose you have `n` versions `[1, 2, ..., n]` and you want to find out the first bad one, which causes all the following ones to be bad.\n",
    "\n",
    "You are given an API `bool isBadVersion(version)` which returns whether `version` is bad. Implement a function to find the first bad version. You should minimize the number of calls to the API.\n",
    "\n",
    "**Example 1:**\n",
    "\n",
    "Input: n = 5, bad = 4\n",
    "\n",
    "Output: 4\n",
    "\n",
    "Explanation:\n",
    "    \n",
    "call isBadVersion(3) -> false\n",
    "\n",
    "call isBadVersion(5) -> true\n",
    "\n",
    "call isBadVersion(4) -> true\n",
    "\n",
    "Then 4 is the first bad version.\n",
    "\n",
    "**Example 2:**\n",
    "\n",
    "Input: n = 1, bad = 1\n",
    "\n",
    "Output: 1\n",
    "\n",
    "**Constraints:**\n",
    "\n",
    "- `1 <= bad <= n <= 2^31 - 1`"
   ]
  },
  {
   "cell_type": "code",
   "execution_count": 26,
   "id": "95d5b192-a107-452e-b981-9515c0c27f5b",
   "metadata": {},
   "outputs": [],
   "source": [
    "def firstBadVersion(n):\n",
    "    left = 1\n",
    "    right = n\n",
    "\n",
    "    while left < right:\n",
    "        mid = left + (right - left) // 2\n",
    "        if isBadVersion(mid):\n",
    "            right = mid\n",
    "        else:\n",
    "            left = mid + 1\n",
    "\n",
    "    return left\n"
   ]
  },
  {
   "cell_type": "code",
   "execution_count": 27,
   "id": "7b632c36-3550-40c3-9a55-4343fcfd17ac",
   "metadata": {},
   "outputs": [
    {
     "name": "stdout",
     "output_type": "stream",
     "text": [
      "4\n",
      "1\n"
     ]
    }
   ],
   "source": [
    "# Example 1\n",
    "n1 = 5\n",
    "bad1 = 4\n",
    "print(firstBadVersion(n1)) \n",
    "\n",
    "# Example 2\n",
    "n2 = 1\n",
    "bad2 = 1\n",
    "print(firstBadVersion(n2))  "
   ]
  },
  {
   "cell_type": "markdown",
   "id": "e0ddf75e-c110-492d-addc-1db51ed30f79",
   "metadata": {},
   "source": [
    "**4. Maximum Gap**\n",
    "\n",
    "Given an integer array `nums`, return *the maximum difference between two successive elements in its sorted form*. If the array contains less than two elements, return `0`.\n",
    "\n",
    "You must write an algorithm that runs in linear time and uses linear extra space.\n",
    "\n",
    "**Example 1:**\n",
    "\n",
    "Input: nums = [3,6,9,1]\n",
    "\n",
    "Output: 3\n",
    "\n",
    "Explanation: The sorted form of the array is [1,3,6,9], either (3,6) or (6,9) has the maximum difference 3.\n",
    "\n",
    "**Example 2:**\n",
    "\n",
    "Input: nums = [10]\n",
    "\n",
    "Output: 0\n",
    "\n",
    "Explanation: The array contains less than 2 elements, therefore return 0.\n",
    "\n",
    "**Constraints:**\n",
    "\n",
    "- `1 <= nums.length <= 10^5`\n",
    "\n",
    "- `0 <= nums[i] <= 10^9`"
   ]
  },
  {
   "cell_type": "code",
   "execution_count": 28,
   "id": "d4a3e15f-c9e1-4d76-b646-4e26651d8da0",
   "metadata": {},
   "outputs": [],
   "source": [
    "def maximumGap(nums):\n",
    "    if len(nums) < 2:\n",
    "        return 0\n",
    "\n",
    "    max_num = max(nums)\n",
    "\n",
    "    exp = 1\n",
    "    n = len(nums)\n",
    "    sorted_nums = [0] * n\n",
    "\n",
    "    while max_num // exp > 0:\n",
    "        count = [0] * 10\n",
    "\n",
    "        for num in nums:\n",
    "            count[(num // exp) % 10] += 1\n",
    "\n",
    "        for i in range(1, 10):\n",
    "            count[i] += count[i - 1]\n",
    "\n",
    "        i = n - 1\n",
    "        while i >= 0:\n",
    "            digit = (nums[i] // exp) % 10\n",
    "            sorted_nums[count[digit] - 1] = nums[i]\n",
    "            count[digit] -= 1\n",
    "            i -= 1\n",
    "\n",
    "        nums = sorted_nums.copy()\n",
    "        exp *= 10\n",
    "\n",
    "    max_gap = 0\n",
    "    for i in range(1, n):\n",
    "        max_gap = max(max_gap, nums[i] - nums[i - 1])\n",
    "\n",
    "    return max_gap"
   ]
  },
  {
   "cell_type": "code",
   "execution_count": 29,
   "id": "7c9d13f0-86f7-42d3-b9c4-10e4cd613e98",
   "metadata": {},
   "outputs": [
    {
     "name": "stdout",
     "output_type": "stream",
     "text": [
      "3\n",
      "0\n"
     ]
    }
   ],
   "source": [
    "nums1 = [3, 6, 9, 1]\n",
    "print(maximumGap(nums1)) \n",
    "\n",
    "nums2 = [10]\n",
    "print(maximumGap(nums2)) "
   ]
  },
  {
   "cell_type": "markdown",
   "id": "2a64e3c6-69e1-412d-b660-9c100e55e146",
   "metadata": {},
   "source": [
    "**5. Contains Duplicate**\n",
    "\n",
    "Given an integer array `nums`, return `true` if any value appears **at least twice** in the array, and return `false` if every element is distinct.\n",
    "\n",
    "**Example 1:**\n",
    "\n",
    "Input: nums = [1,2,3,1]\n",
    "\n",
    "Output: true\n",
    "\n",
    "**Example 2:**\n",
    "\n",
    "Input: nums = [1,2,3,4]\n",
    "\n",
    "Output: false\n",
    "\n",
    "**Example 3:**\n",
    "\n",
    "Input: nums = [1,1,1,3,3,4,3,2,4,2]\n",
    "\n",
    "Output: true\n",
    "\n",
    "**Constraints:**\n",
    "\n",
    "- `1 <= nums.length <= 10^5`\n",
    "\n",
    "- `109 <= nums[i] <= 10^9`"
   ]
  },
  {
   "cell_type": "code",
   "execution_count": 30,
   "id": "a6a9a3ab-d725-4ef1-9043-8093f7ec0094",
   "metadata": {},
   "outputs": [],
   "source": [
    "def containsDuplicate(nums):\n",
    "    num_set = set()\n",
    "\n",
    "    for num in nums:\n",
    "        if num in num_set:\n",
    "            return True\n",
    "        num_set.add(num)\n",
    "\n",
    "    return False"
   ]
  },
  {
   "cell_type": "code",
   "execution_count": 31,
   "id": "28e3249c-ead2-4677-b2dc-6398a11e9a24",
   "metadata": {},
   "outputs": [
    {
     "name": "stdout",
     "output_type": "stream",
     "text": [
      "True\n",
      "False\n",
      "True\n"
     ]
    }
   ],
   "source": [
    "nums1 = [1, 2, 3, 1]\n",
    "print(containsDuplicate(nums1))  \n",
    "\n",
    "nums2 = [1, 2, 3, 4]\n",
    "print(containsDuplicate(nums2))  \n",
    "\n",
    "nums3 = [1, 1, 1, 3, 3, 4, 3, 2, 4, 2]\n",
    "print(containsDuplicate(nums3))  "
   ]
  },
  {
   "cell_type": "markdown",
   "id": "05fed021-9da0-459f-ab45-a958c17ab263",
   "metadata": {},
   "source": [
    "**6. Minimum Number of Arrows to Burst Balloons**\n",
    "\n",
    "There are some spherical balloons taped onto a flat wall that represents the XY-plane. The balloons are represented as a 2D integer array `points` where `points[i] = [xstart, xend]` denotes a balloon whose **horizontal diameter** stretches between `xstart` and `xend`. You do not know the exact y-coordinates of the balloons.\n",
    "\n",
    "Arrows can be shot up **directly vertically** (in the positive y-direction) from different points along the x-axis. A balloon with `xstart` and `xend` is **burst** by an arrow shot at `x` if `xstart <= x <= xend`. There is **no limit** to the number of arrows that can be shot. A shot arrow keeps traveling up infinitely, bursting any balloons in its path.\n",
    "\n",
    "Given the array `points`, return *the **minimum** number of arrows that must be shot to burst all balloons*.\n",
    "\n",
    "**Example 1:**\n",
    "\n",
    "Input: points = [[10,16],[2,8],[1,6],[7,12]]\n",
    "\n",
    "Output: 2\n",
    "\n",
    "Explanation: The balloons can be burst by 2 arrows:\n",
    "    \n",
    "- Shoot an arrow at x = 6, bursting the balloons [2,8] and [1,6].\n",
    "\n",
    "- Shoot an arrow at x = 11, bursting the balloons [10,16] and [7,12].\n",
    "\n",
    "**Example 2:**\n",
    "\n",
    "Input: points = [[1,2],[3,4],[5,6],[7,8]]\n",
    "\n",
    "Output: 4\n",
    "\n",
    "Explanation: One arrow needs to be shot for each balloon for a total of 4 arrows.\n",
    "\n",
    "**Example 3:**\n",
    "\n",
    "Input: points = [[1,2],[2,3],[3,4],[4,5]]\n",
    "\n",
    "Output: 2\n",
    "\n",
    "Explanation: The balloons can be burst by 2 arrows:\n",
    "    \n",
    "- Shoot an arrow at x = 2, bursting the balloons [1,2] and [2,3].\n",
    "\n",
    "- Shoot an arrow at x = 4, bursting the balloons [3,4] and [4,5].\n",
    "\n",
    "**Constraints:**\n",
    "\n",
    "- `1 <= points.length <= 10^5`\n",
    "  \n",
    "- `points[i].length == 2`\n",
    "\n",
    "- `231 <= xstart < xend <= 2^31 - 1`"
   ]
  },
  {
   "cell_type": "code",
   "execution_count": 32,
   "id": "1ae4e9e6-d8f2-4cf0-94d9-51e5833c2661",
   "metadata": {},
   "outputs": [],
   "source": [
    "def findMinArrowShots(points):\n",
    "    if not points:\n",
    "        return 0\n",
    "\n",
    "    points.sort(key=lambda x: x[1])\n",
    "\n",
    "    arrows = 1\n",
    "    end = points[0][1]\n",
    "\n",
    "    for i in range(1, len(points)):\n",
    "        if points[i][0] > end:\n",
    "            arrows += 1\n",
    "            end = points[i][1]\n",
    "        else:\n",
    "            end = min(end, points[i][1])\n",
    "\n",
    "    return arrows"
   ]
  },
  {
   "cell_type": "code",
   "execution_count": 33,
   "id": "a969e147-82b5-46a8-83cb-dd963591ba76",
   "metadata": {},
   "outputs": [
    {
     "name": "stdout",
     "output_type": "stream",
     "text": [
      "2\n",
      "4\n",
      "2\n"
     ]
    }
   ],
   "source": [
    "points1 = [[10, 16], [2, 8], [1, 6], [7, 12]]\n",
    "print(findMinArrowShots(points1)) \n",
    "\n",
    "points2 = [[1, 2], [3, 4], [5, 6], [7, 8]]\n",
    "print(findMinArrowShots(points2)) \n",
    "\n",
    "points3 = [[1, 2], [2, 3], [3, 4], [4, 5]]\n",
    "print(findMinArrowShots(points3)) "
   ]
  },
  {
   "cell_type": "markdown",
   "id": "49512ab3-e94c-4fe1-bdd3-53926ec1bc9a",
   "metadata": {},
   "source": [
    "**7. Longest Increasing Subsequence**\n",
    "\n",
    "Given an integer array `nums`, return *the length of the longest **strictly increasing***\n",
    "\n",
    "***subsequence***\n",
    "\n",
    ".\n",
    "\n",
    "**Example 1:**\n",
    "\n",
    "Input: nums = [10,9,2,5,3,7,101,18]\n",
    "\n",
    "Output: 4\n",
    "\n",
    "Explanation: The longest increasing subsequence is [2,3,7,101], therefore the length is 4.\n",
    "\n",
    "**Example 2:**\n",
    "\n",
    "Input: nums = [0,1,0,3,2,3]\n",
    "\n",
    "Output: 4\n",
    "\n",
    "**Example 3:**\n",
    "\n",
    "Input: nums = [7,7,7,7,7,7,7]\n",
    "\n",
    "Output: 1\n",
    "\n",
    "**Constraints:**\n",
    "\n",
    "- `1 <= nums.length <= 2500`\n",
    "\n",
    "- `-10^4 <= nums[i] <= 10^4`"
   ]
  },
  {
   "cell_type": "code",
   "execution_count": 35,
   "id": "0b7c848c-73bb-475e-8f36-3bc834752bc8",
   "metadata": {},
   "outputs": [],
   "source": [
    "def lengthOfLIS(nums):\n",
    "    if not nums:\n",
    "        return 0\n",
    "\n",
    "    n = len(nums)\n",
    "    dp = [1] * n\n",
    "\n",
    "    for i in range(1, n):\n",
    "        for j in range(i):\n",
    "            if nums[i] > nums[j]:\n",
    "                dp[i] = max(dp[i], dp[j] + 1)\n",
    "\n",
    "    return max(dp)"
   ]
  },
  {
   "cell_type": "code",
   "execution_count": 36,
   "id": "54fb53fa-d358-4df4-b509-9bff74e35095",
   "metadata": {},
   "outputs": [
    {
     "name": "stdout",
     "output_type": "stream",
     "text": [
      "4\n",
      "4\n",
      "1\n"
     ]
    }
   ],
   "source": [
    "nums1 = [10, 9, 2, 5, 3, 7, 101, 18]\n",
    "print(lengthOfLIS(nums1))  \n",
    "\n",
    "nums2 = [0, 1, 0, 3, 2, 3]\n",
    "print(lengthOfLIS(nums2))  \n",
    "\n",
    "nums3 = [7, 7, 7, 7, 7, 7, 7]\n",
    "print(lengthOfLIS(nums3))  "
   ]
  },
  {
   "cell_type": "markdown",
   "id": "d0250324-40e1-4c87-8798-4024f5296d1d",
   "metadata": {},
   "source": [
    "**8. 132 Pattern**\n",
    "\n",
    "Given an array of `n` integers `nums`, a **132 pattern** is a subsequence of three integers `nums[i]`, `nums[j]` and `nums[k]` such that `i < j < k` and `nums[i] < nums[k] < nums[j]`.\n",
    "\n",
    "Return `true` *if there is a **132 pattern** in* `nums`*, otherwise, return* `false`*.*\n",
    "\n",
    "**Example 1:**\n",
    "\n",
    "Input: nums = [1,2,3,4]\n",
    "\n",
    "Output: false\n",
    "\n",
    "Explanation: There is no 132 pattern in the sequence.\n",
    "\n",
    "**Example 2:**\n",
    "\n",
    "Input: nums = [3,1,4,2]\n",
    "\n",
    "Output: true\n",
    "\n",
    "Explanation: There is a 132 pattern in the sequence: [1, 4, 2].\n",
    "\n",
    "**Example 3:**\n",
    "\n",
    "Input: nums = [-1,3,2,0]\n",
    "\n",
    "Output: true\n",
    "\n",
    "Explanation: There are three 132 patterns in the sequence: [-1, 3, 2], [-1, 3, 0] and [-1, 2, 0].\n",
    "\n",
    "**Constraints:**\n",
    "\n",
    "- `n == nums.length`\n",
    "\n",
    "- `1 <= n <= 2 * 10^5`\n",
    "\n",
    "- `-10^9 <= nums[i] <= 10^9`"
   ]
  },
  {
   "cell_type": "code",
   "execution_count": 37,
   "id": "f82f5fe7-6d29-4c83-adb3-e49a211bf382",
   "metadata": {},
   "outputs": [],
   "source": [
    "def find132pattern(nums):\n",
    "    n = len(nums)\n",
    "    stack = []\n",
    "    max_value = float('-inf')\n",
    "\n",
    "    for i in range(n-1, -1, -1):\n",
    "        if nums[i] < max_value:\n",
    "            return True\n",
    "\n",
    "        while stack and nums[i] > stack[-1]:\n",
    "            max_value = stack.pop()\n",
    "\n",
    "        stack.append(nums[i])\n",
    "\n",
    "    return False"
   ]
  },
  {
   "cell_type": "code",
   "execution_count": 38,
   "id": "6582318d-60f4-417d-bbdf-8aed5f664431",
   "metadata": {},
   "outputs": [
    {
     "name": "stdout",
     "output_type": "stream",
     "text": [
      "False\n",
      "True\n",
      "True\n"
     ]
    }
   ],
   "source": [
    "nums1 = [1, 2, 3, 4]\n",
    "print(find132pattern(nums1))  \n",
    "\n",
    "nums2 = [3, 1, 4, 2]\n",
    "print(find132pattern(nums2)) \n",
    "\n",
    "nums3 = [-1, 3, 2, 0]\n",
    "print(find132pattern(nums3))  "
   ]
  },
  {
   "cell_type": "code",
   "execution_count": null,
   "id": "e4f5cda1-5e6d-4bfe-aa25-ef979e1cccc6",
   "metadata": {},
   "outputs": [],
   "source": []
  }
 ],
 "metadata": {
  "kernelspec": {
   "display_name": "Python 3 (ipykernel)",
   "language": "python",
   "name": "python3"
  },
  "language_info": {
   "codemirror_mode": {
    "name": "ipython",
    "version": 3
   },
   "file_extension": ".py",
   "mimetype": "text/x-python",
   "name": "python",
   "nbconvert_exporter": "python",
   "pygments_lexer": "ipython3",
   "version": "3.10.10"
  }
 },
 "nbformat": 4,
 "nbformat_minor": 5
}
