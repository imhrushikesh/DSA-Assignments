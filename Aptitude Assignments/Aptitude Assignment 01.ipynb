{
 "cells": [
  {
   "cell_type": "markdown",
   "id": "0920a0cb",
   "metadata": {},
   "source": [
    "# **Assignment 1**"
   ]
  },
  {
   "cell_type": "markdown",
   "id": "a6065594",
   "metadata": {},
   "source": [
    "## Divisibility"
   ]
  },
  {
   "cell_type": "markdown",
   "id": "bf57392c",
   "metadata": {},
   "source": [
    "**1) Which one of the following numbers is divisible by 99?**\n",
    "\n",
    "a) 3572404 b) 135792 c) 913464 d) 114345\n",
    "\n",
    "**Ans:**  a) 3572404"
   ]
  },
  {
   "cell_type": "markdown",
   "id": "d7543f4f",
   "metadata": {},
   "source": [
    "**2) If n is an integer, what is the remainder when (2n + 2)2\n",
    "is divided by 4?**\n",
    "\n",
    "**Ans:** 0 (The remainder is always 0 when a perfect square is divided by 4.)"
   ]
  },
  {
   "cell_type": "markdown",
   "id": "3ffaa661",
   "metadata": {},
   "source": [
    "**3) Find two nearest numbers to 19506 which are divisible by 9?**\n",
    "\n",
    "**Ans:** 19509 and 19500"
   ]
  },
  {
   "cell_type": "markdown",
   "id": "ce0828ef",
   "metadata": {},
   "source": [
    "**4) What is the value of M and N respectively if M39048458N is divisible\n",
    "by 8 and 11, where M and N are single-digit integers?**\n",
    "\n",
    "**Ans:** M = 4 and N = 7"
   ]
  },
  {
   "cell_type": "markdown",
   "id": "88d54aa7",
   "metadata": {},
   "source": [
    "**5) How many pairs of X and Y are possible in the number 763X4Y2, if\n",
    "the number is divisible by 9?**\n",
    "\n",
    "**Ans:** 3 (X can be 0, 3, or 6, and Y can be 3, 6, or 9 to make the number\n",
    "divisible by 9.)"
   ]
  },
  {
   "cell_type": "markdown",
   "id": "faa5a9c0",
   "metadata": {},
   "source": [
    "**6) When the integer n is divided by 8, the remainder is 3. What is the\n",
    "remainder if 6n is divided by 8?**\n",
    "\n",
    "**Ans:** 6 (The remainder remains the same when multiplying or dividing by a\n",
    "constant.)"
   ]
  },
  {
   "cell_type": "markdown",
   "id": "ac93b91a",
   "metadata": {},
   "source": [
    "**7) If the product 4864 x 9P2 is divisible by 12, then what is the value of\n",
    "P?** \n",
    "\n",
    "**Ans:**  P = 6 (The number is divisible by 12 if it is divisible by both 3 and 4, and\n",
    "P = 6 satisfies this condition.)"
   ]
  },
  {
   "cell_type": "markdown",
   "id": "a1d0ebbe",
   "metadata": {},
   "source": [
    "**8) If the number 7X86038 is exactly divisible by 11, then the smallest\n",
    "whole number in place of X?**\n",
    "\n",
    "**Ans:** X = 3 (The alternating sum of the digits, excluding X, should be divisible\n",
    "by 11.)"
   ]
  },
  {
   "cell_type": "markdown",
   "id": "82c60662",
   "metadata": {},
   "source": [
    "**9) If an integer n is divisible by 3, 5, and 12, what is the next larger\n",
    "integer divisible by all these numbers?**\n",
    "\n",
    "**a) n^2 b) n + 180 c) 2n d) n + 60**\n",
    "\n",
    "**Ans:** b) n + 180"
   ]
  },
  {
   "cell_type": "markdown",
   "id": "a6340e68",
   "metadata": {},
   "source": [
    "**10) What is the product of the largest and the smallest possible values of\n",
    "M for which a number 5M83M4M1 is divisible by 9?**\n",
    "\n",
    "**Ans:** The product is 16 (The possible values of M are 1 and 6, making the\n",
    "number 5834161 divisible by 9.)"
   ]
  },
  {
   "cell_type": "markdown",
   "id": "f390e725",
   "metadata": {},
   "source": [
    "## Unit digits (Cyclicity)"
   ]
  },
  {
   "cell_type": "markdown",
   "id": "3e20e0b7",
   "metadata": {},
   "source": [
    "**1) What is the unit digit in the product (365 x 659 x 771)?**\n",
    "\n",
    "**Ans:** The unit digit in the product is 5.\n"
   ]
  },
  {
   "cell_type": "markdown",
   "id": "97cf7be8",
   "metadata": {},
   "source": [
    "**2) Find the unit digit of the product (173)45 * (152)77 * (777)999.**\n",
    "\n",
    "**Ans:** The unit digit of the product is 8.\n"
   ]
  },
  {
   "cell_type": "markdown",
   "id": "313768f1",
   "metadata": {},
   "source": [
    "**3) What is the unit's digit of the number 6256 – 4^256?**\n",
    "\n",
    "**Ans:** The unit digit of the number is 5.\n"
   ]
  },
  {
   "cell_type": "markdown",
   "id": "02107456",
   "metadata": {},
   "source": [
    "**4) Find the unit's digit in 2^64102 + 2^64103.**\n",
    "\n",
    "**Ans:** The unit digit is 6."
   ]
  },
  {
   "cell_type": "markdown",
   "id": "3f76baa7",
   "metadata": {},
   "source": [
    "**5) What is the unit digit of (316)^3n + 1?**\n",
    "\n",
    "**Ans:** The unit digit is 6."
   ]
  },
  {
   "cell_type": "markdown",
   "id": "8dd46ba9",
   "metadata": {},
   "source": [
    "**6) What is the unit digit in 795 - 3^58?**\n",
    "\n",
    "**Ans:** The unit digit is 2"
   ]
  },
  {
   "cell_type": "markdown",
   "id": "c2f417f7",
   "metadata": {},
   "source": [
    "**7) What is the rightmost non-zero digit of the number 302720?**\n",
    "\n",
    "**Ans:** The rightmost non-zero digit is 2."
   ]
  },
  {
   "cell_type": "markdown",
   "id": "73d7913e",
   "metadata": {},
   "source": [
    "**8) What will be the last digit of the number obtained by multiplying the\n",
    "numbers 81 * 82 * 83 * 84 * 86 * 87 * 88 * 89?**\n",
    "\n",
    "**Ans:** The last digit is 0."
   ]
  },
  {
   "cell_type": "markdown",
   "id": "3ec5df4a",
   "metadata": {},
   "source": [
    "**9) Find the last three digits of the product: 12345 * 54321.**\n",
    "\n",
    "**Ans:** The last three digits of the product are 625."
   ]
  },
  {
   "cell_type": "markdown",
   "id": "2a76b68c",
   "metadata": {},
   "source": [
    "**10) Find the last digit of 15 + 25 + 35 + ... + 95.**\n",
    "\n",
    "**Ans:** The last digit is 0."
   ]
  },
  {
   "cell_type": "markdown",
   "id": "9a2865b0",
   "metadata": {},
   "source": [
    "## Factorials"
   ]
  },
  {
   "cell_type": "markdown",
   "id": "6983864d",
   "metadata": {},
   "source": [
    "**1) What is the highest power of 21 that divides 20!?**\n",
    "\n",
    "**Ans:** The highest power of 21 that divides 20! is 0, as there is no factor of 21 in\n",
    "the prime factorization of 20!."
   ]
  },
  {
   "cell_type": "markdown",
   "id": "458d7f44",
   "metadata": {},
   "source": [
    "**2) What is the highest power of 32 that divides 31!?**\n",
    "\n",
    "**Ans:** The highest power of 32 that divides 31! is 0, as there is no factor of 32 in\n",
    "the prime factorization of 31!."
   ]
  },
  {
   "cell_type": "markdown",
   "id": "f6b20acc",
   "metadata": {},
   "source": [
    "**3) Find the largest number less than 28 which divides 28!?**\n",
    "\n",
    "**Ans:** The largest number less than 28 that divides 28! is 27."
   ]
  },
  {
   "cell_type": "markdown",
   "id": "6b81642e",
   "metadata": {},
   "source": [
    "**4) Find the number of zeroes at the end of 97!**\n",
    "\n",
    "**Ans:** The number of zeroes at the end of 97! is 22."
   ]
  },
  {
   "cell_type": "markdown",
   "id": "f628fef9",
   "metadata": {},
   "source": [
    "**5) What is the highest power of 12 that divides 54!?**\n",
    "\n",
    "**Ans:** The highest power of 12 that divides 54! is 2"
   ]
  },
  {
   "cell_type": "markdown",
   "id": "1d56eee0",
   "metadata": {},
   "source": [
    "**6) Find the least value of x such that 60!/2^x is an odd number.**\n",
    "\n",
    "**Ans:** The least value of x is 57."
   ]
  },
  {
   "cell_type": "markdown",
   "id": "a5825ed9",
   "metadata": {},
   "source": [
    "**7) Find the least value of ‘n’ if no factorial can have ‘n’ zeroes?**\n",
    "\n",
    "**Ans:** The least value of 'n' is 4.\n"
   ]
  },
  {
   "cell_type": "markdown",
   "id": "2129738f",
   "metadata": {},
   "source": [
    "**8) What is the highest power of 7! dividing 50! completely.**\n",
    "\n",
    "**Ans:** The highest power of 7! dividing 50! completely is 7."
   ]
  },
  {
   "cell_type": "markdown",
   "id": "bf3a41bf",
   "metadata": {},
   "source": [
    "**9) How many more trailing zeroes would 625! have than 624!?**\n",
    "\n",
    "**Ans:** 624! has 124 trailing zeroes, and 625! has 125 trailing zeroes. Therefore,\n",
    "625! has one more trailing zero than 624!."
   ]
  },
  {
   "cell_type": "markdown",
   "id": "b5977a0d",
   "metadata": {},
   "source": [
    "**10) Find the number of zeroes at the end of 1 × 22 × 33 × ... × 100100.**\n",
    "\n",
    "**Ans:** The number of zeroes at the end is 32"
   ]
  },
  {
   "cell_type": "markdown",
   "id": "5e59a2a4",
   "metadata": {},
   "source": [
    "## Factors"
   ]
  },
  {
   "cell_type": "markdown",
   "id": "0152cd2e",
   "metadata": {},
   "source": [
    "**1) What is the number of prime factors in 64 × 86 × 108 × 1410 × 2212?**\n",
    "\n",
    "**Ans:** The number of prime factors in the given expression is 7."
   ]
  },
  {
   "cell_type": "markdown",
   "id": "4f70a403",
   "metadata": {},
   "source": [
    "**2) N = a^4 * b^3 * c^7. Find the number of perfect square factors of N,\n",
    "where a, b, c are three distinct prime numbers.**\n",
    "\n",
    "**Ans:** The number of perfect square factors of N is 15."
   ]
  },
  {
   "cell_type": "markdown",
   "id": "aa0fad22",
   "metadata": {},
   "source": [
    "**3) How many factors of 123 × 304 × 352 are even numbers?**\n",
    "\n",
    "**Ans:** The number of factors of 123 × 304 × 352 that are even is 26."
   ]
  },
  {
   "cell_type": "markdown",
   "id": "b64d9063",
   "metadata": {},
   "source": [
    "**4) If N = 27 × 34 and M = 24 × 32 × 5, then find the number of factors of\n",
    "N that are common with the factors of M.**\n",
    "\n",
    "**Ans:** The number of factors of N that are common with the factors of M is 12."
   ]
  },
  {
   "cell_type": "markdown",
   "id": "7d3e7867",
   "metadata": {},
   "source": [
    "**5) N is the smallest number that has 5 factors. How many factors does\n",
    "(N - 1) have?**\n",
    "\n",
    "**Ans:** (N - 1) has 4 factors."
   ]
  },
  {
   "cell_type": "markdown",
   "id": "79c1b95e",
   "metadata": {},
   "source": [
    "**6) If both 112 and 34 are factors of the number A × 43 × 62 × 1311, then\n",
    "what is the smallest possible value of A?**\n",
    "\n",
    "**Ans:** The smallest possible value of A is 4."
   ]
  },
  {
   "cell_type": "markdown",
   "id": "d365045b",
   "metadata": {},
   "source": [
    "**7) Find the total number of factors of 10!**\n",
    "\n",
    "**Ans:** The total number of factors of 10! is 144."
   ]
  },
  {
   "cell_type": "markdown",
   "id": "c12bcc05",
   "metadata": {},
   "source": [
    "**8) How many factors of 27 × 36 × 54 × 73 are even perfect squares?**\n",
    "\n",
    "**Ans:** The number of factors of 27 × 36 × 54 × 73 that are even perfect squares\n",
    "is 16."
   ]
  },
  {
   "cell_type": "markdown",
   "id": "e09ada06",
   "metadata": {},
   "source": [
    "**9) In how many ways can 480 be written as a product of two natural\n",
    "numbers?**\n",
    "\n",
    "**Ans:** 480 can be written as a product of two natural numbers in 20 ways.\n"
   ]
  },
  {
   "cell_type": "markdown",
   "id": "5390cee3",
   "metadata": {},
   "source": [
    "**10) How many factors of 25 × 34 × 53 are not the factors of 23 × 54 × 75?**\n",
    "\n",
    "**Ans:** There are 18 factors of 25 × 34 × 53 that are not the factors of 23 × 54 ×\n",
    "75."
   ]
  },
  {
   "cell_type": "markdown",
   "id": "b17bd683",
   "metadata": {},
   "source": [
    "## Remainders"
   ]
  },
  {
   "cell_type": "markdown",
   "id": "50c757a5",
   "metadata": {},
   "source": [
    "**1) What is the remainder when 725 is divided by 6?**\n",
    "\n",
    "**Ans:** The remainder is 1."
   ]
  },
  {
   "cell_type": "markdown",
   "id": "d825d255",
   "metadata": {},
   "source": [
    "**2) What is the remainder when 345 is divided by 8?**\n",
    "\n",
    "**Ans:** The remainder is 1.\n"
   ]
  },
  {
   "cell_type": "markdown",
   "id": "83a49e2b",
   "metadata": {},
   "source": [
    "**3) Find the remainder when 496 is divided by 6.**\n",
    "\n",
    "**Ans:** The remainder is 4."
   ]
  },
  {
   "cell_type": "markdown",
   "id": "07514afb",
   "metadata": {},
   "source": [
    "**4) What is the remainder when 141516 is divided by 5?**\n",
    "\n",
    "**Ans:** The remainder is 1."
   ]
  },
  {
   "cell_type": "markdown",
   "id": "be77771d",
   "metadata": {},
   "source": [
    "**5) Find the remainder when 6799 is divided by 7.**\n",
    "\n",
    "**Ans:** The remainder is 5.\n"
   ]
  },
  {
   "cell_type": "markdown",
   "id": "bf0efa95",
   "metadata": {},
   "source": [
    "**6) What is the remainder when 73 × 75 × 78 × 57 × 197 × 37 is divided\n",
    "by 34.**\n",
    "\n",
    "**Ans:** The remainder is 21."
   ]
  },
  {
   "cell_type": "markdown",
   "id": "b77c2935",
   "metadata": {},
   "source": [
    "**7) Let N = 1421 × 1423 × 1425. What is the remainder when N is divided\n",
    "by 12?**\n",
    "\n",
    "**Ans:** The remainder is 9."
   ]
  },
  {
   "cell_type": "markdown",
   "id": "2add0b62",
   "metadata": {},
   "source": [
    "**8) Find the remainder when 2256 is divided by 17.**\n",
    "\n",
    "**Ans:** The remainder is 3."
   ]
  },
  {
   "cell_type": "markdown",
   "id": "17144d2b",
   "metadata": {},
   "source": [
    "**9) . The remainder of 3997! / 40 is: a) 39 b) 0 c) 1 d) None of these**\n",
    "\n",
    "**Ans:** c) 1"
   ]
  },
  {
   "cell_type": "markdown",
   "id": "bbe4d126",
   "metadata": {},
   "source": [
    "**10) Find the remainder on dividing 1! + 2! + 3! + ... + 100! by 7?**\n",
    "\n",
    "**Ans:** The remainder is 5.\n"
   ]
  },
  {
   "cell_type": "markdown",
   "id": "40a25441",
   "metadata": {},
   "source": [
    "## HCF/LCM\n"
   ]
  },
  {
   "cell_type": "markdown",
   "id": "406125b2",
   "metadata": {},
   "source": [
    "**1) What is the greatest number of four digits which is divisible by 15, 25,\n",
    "40, and 75?**\n",
    "\n",
    "a) 9000 b) 9400 c) 9600 d) 9800\n",
    "\n",
    "**Ans:** d) 9800"
   ]
  },
  {
   "cell_type": "markdown",
   "id": "7aedc6a0",
   "metadata": {},
   "source": [
    "**2) The H.C.F. of two numbers is 11, and their L.C.M. is 7700. If one of\n",
    "the numbers is 275, then the other is:**\n",
    "\n",
    "a) 279 b) 283 c) 308 d) 318\n",
    "\n",
    "**Ans:** c) 308"
   ]
  },
  {
   "cell_type": "markdown",
   "id": "363d2952",
   "metadata": {},
   "source": [
    "**3) Six bells commence tolling together and toll at intervals of 2, 4, 6, 8,\n",
    "10, and 12 seconds, respectively. In 30 minutes, how many times do they\n",
    "toll together, including the toll at the start?**\n",
    "\n",
    "a) 4 b) 10 c) 15 d) 16\n",
    "\n",
    "**Ans:** c) 15"
   ]
  },
  {
   "cell_type": "markdown",
   "id": "4c76c4a3",
   "metadata": {},
   "source": [
    "**4) Let N be the greatest number that will divide 1305, 4665, and 6905,\n",
    "leaving the same remainder in each case. Then the sum of the digits in N is:**\n",
    "\n",
    "a) 4 b) 5 c) 6 d) 8\n",
    "\n",
    "**Ans:** b) 5"
   ]
  },
  {
   "cell_type": "markdown",
   "id": "92189ac7",
   "metadata": {},
   "source": [
    "**5) Find the greatest number that will divide 43, 91, and 183 so as to leave\n",
    "the same remainder in each case.**\n",
    "\n",
    "a) 4 b) 7 c) 9 d) 13\n",
    "\n",
    "**Ans:** b) 7\n"
   ]
  },
  {
   "cell_type": "markdown",
   "id": "81f79799",
   "metadata": {},
   "source": [
    "**6) The product of two numbers is 4107. If the H.C.F. of these numbers is\n",
    "37, then the greater number is:**\n",
    "\n",
    "a) 101 b) 107 c) 111 d) 185\n",
    "\n",
    "**Ans:** b) 107"
   ]
  },
  {
   "cell_type": "markdown",
   "id": "ace56636",
   "metadata": {},
   "source": [
    "**7) Three numbers are in the ratio of 3:4:5, and their L.C.M. is 2400.\n",
    "What is their H.C.F.?**\n",
    "\n",
    "a) 40 b) 80 c) 120 d) 200\n",
    "\n",
    "**Ans:** a) 40\n"
   ]
  },
  {
   "cell_type": "markdown",
   "id": "2b8604e9",
   "metadata": {},
   "source": [
    "**8) The G.C.D. of 1.08, 0.36, and 0.9 is:** \n",
    "\n",
    "a) 0.03 b) 0.9 c) 0.18 d) 0.108**\n",
    "\n",
    "**Ans:** c) 0.18"
   ]
  },
  {
   "cell_type": "markdown",
   "id": "0330e2a4",
   "metadata": {},
   "source": [
    "**9) The product of two numbers is 2028, and their H.C.F. is 13. The\n",
    "number of such pairs is:**\n",
    "\n",
    "a) 1 b) 2 c) 3 d) 4\n",
    "\n",
    "**Ans:** b) 2"
   ]
  },
  {
   "cell_type": "markdown",
   "id": "08263b9c",
   "metadata": {},
   "source": [
    "**10) The least multiple of 7, which leaves a remainder of 4 when divided\n",
    "by 6, 9, 15, and 18 is:**\n",
    "\n",
    "a) 74 b) 94 c) 184 d) 364\n",
    "\n",
    "**Ans:** d) 364"
   ]
  },
  {
   "cell_type": "markdown",
   "id": "5a8f9979",
   "metadata": {},
   "source": [
    "**11) The least number that should be added to 2497 so that the sum is\n",
    "exactly divisible by 5, 6, 4, and 3 is:**\n",
    "\n",
    "a) 3 b) 13 c) 23 d) 33\n",
    "\n",
    "**Ans:** b) 13"
   ]
  },
  {
   "cell_type": "markdown",
   "id": "321d7148",
   "metadata": {},
   "source": [
    "**12) The least number that, when divided by 5, 6, 7, and 8, leaves a\n",
    "remainder of 3 but is divisible by 9, is:**\n",
    "\n",
    "a) 1677 b) 1683 c) 2523 d) 3363\n",
    "\n",
    "**Ans:** b) 1683"
   ]
  },
  {
   "cell_type": "markdown",
   "id": "43d5df7a",
   "metadata": {},
   "source": [
    "**13) A, B, and C start at the same time in the same direction to run\n",
    "around a circular stadium. A completes a round in 252 seconds, B in 308\n",
    "seconds, and C in 198 seconds. After what time will they cross the same\n",
    "point from where they started?** \n",
    "\n",
    "a) 26 m 18 s b) 42 m 36 s c) 45 m d) 46 m\n",
    "12 s\n",
    "\n",
    "**Ans:** b) 42 m 36 s"
   ]
  },
  {
   "cell_type": "markdown",
   "id": "b22972f7",
   "metadata": {},
   "source": [
    "**14) The H.C.F. of two numbers is 23, and the other two factors of their\n",
    "L.C.M. are 13 and 14. The larger of the two numbers is:**\n",
    "\n",
    "a) 276 b) 299 c)322 d) 345\n",
    "\n",
    "**Ans:** c) 322"
   ]
  },
  {
   "cell_type": "markdown",
   "id": "717ac0b4",
   "metadata": {},
   "source": [
    "**15) What will be the least number which, when doubled, will be exactly\n",
    "divisible by 12, 18, 21, and 30?**\n",
    "\n",
    "a) 196 b) 630 c) 1260 d) 2520\n",
    "\n",
    "**Ans:** b) 630"
   ]
  },
  {
   "cell_type": "markdown",
   "id": "5f4804fc",
   "metadata": {},
   "source": [
    "**16) A rectangular courtyard 3.78 meters long and 5.25 meters wide is to\n",
    "be paved with square tiles of exactly the same size. What is the largest\n",
    "size of the tile that can be used for this purpose?**\n",
    "\n",
    "a) 14 cms b) 21 cms c)42 cms d) None of these\n",
    "\n",
    "**Ans:** c) 42 cms"
   ]
  },
  {
   "cell_type": "markdown",
   "id": "235534f6",
   "metadata": {},
   "source": [
    "**17) Three numbers that are co-prime to each other are such that the\n",
    "product of the first two is 551, and that of the last two is 1073. The sum\n",
    "of the three numbers is:**\n",
    "\n",
    "a) 75 b) 81 c) 85 d) 89\n",
    "\n",
    "**Ans:** c) 85\n"
   ]
  },
  {
   "cell_type": "markdown",
   "id": "8e264056",
   "metadata": {},
   "source": [
    "**18) The greatest number that, on dividing 1657 and 2037, leaves\n",
    "remainders 6 and 5, respectively, is:**\n",
    "\n",
    "a) 123 b) 127 c) 235 d) 305\n",
    "\n",
    "**Ans:** b) 127"
   ]
  },
  {
   "cell_type": "markdown",
   "id": "b09acfa8",
   "metadata": {},
   "source": [
    "**19. The L.C.M. of two numbers is 48. The numbers are in the ratio 2:3.\n",
    "Then the sum of the numbers is:**\n",
    "\n",
    "a) 28 b) 32 c) 40 d) 64\n",
    "\n",
    "**Ans:** c) 40"
   ]
  },
  {
   "cell_type": "markdown",
   "id": "d2a70313",
   "metadata": {},
   "source": [
    "## Problem on Numbers\n"
   ]
  },
  {
   "cell_type": "markdown",
   "id": "f5831823",
   "metadata": {},
   "source": [
    "**1) A girl wrote all the numbers from 100 to 200. Then she started\n",
    "counting the number of one's that have been used while writing all these\n",
    "numbers. What is the number that she got?**\n",
    "\n",
    "**Ans:** The number of times the digit \"1\" appears from 100 to 200 is 121.\n"
   ]
  },
  {
   "cell_type": "markdown",
   "id": "b09763a4",
   "metadata": {},
   "source": [
    "**2) If we write down all the numbers from 259 to 492 side by side like:\n",
    "259260261....491492259260261....491492, how many 8's will be used to\n",
    "write this large natural number?**\n",
    "\n",
    "**Ans:** The number of times the digit \"8\" appears from 259 to 492 is 40."
   ]
  },
  {
   "cell_type": "markdown",
   "id": "e08426e3",
   "metadata": {},
   "source": [
    "**3) A number 3 divides ‘a’ with a result of ‘b’ and a remainder of 2. The\n",
    "number 3 divides ‘b’ with a result of 2 and a remainder of 1. What is the\n",
    "value of 'a'?**\n",
    "\n",
    "**Ans:** The value of 'a' is 23.\n"
   ]
  },
  {
   "cell_type": "markdown",
   "id": "a9c175e1",
   "metadata": {},
   "source": [
    "**4) When a number is divided by 5, the remainder is 2. When it is divided\n",
    "by 6, the remainder is 1. If the difference between the quotients of\n",
    "division is 3, then find the number.**\n",
    "\n",
    "**Ans:** The number is 37.\n"
   ]
  },
  {
   "cell_type": "markdown",
   "id": "6b8119f6",
   "metadata": {},
   "source": [
    "**5) The number formed by writing 1 to 29 side by side as:\n",
    "12345678910...... is divided by 9, then what is the remainder?**\n",
    "\n",
    "**Ans:** The remainder when the number is divided by 9 is 2."
   ]
  },
  {
   "cell_type": "markdown",
   "id": "a52a048c",
   "metadata": {},
   "source": [
    "**6) When 75% of a two-digit number is added to the number, the digits of\n",
    "the number are reversed. Find the ratio of the unit's digit to the ten's\n",
    "digit in the original number.**\n",
    "\n",
    "**Ans:** The ratio of the unit's digit to the ten's digit in the original number is 1:2."
   ]
  },
  {
   "cell_type": "markdown",
   "id": "23452995",
   "metadata": {},
   "source": [
    "**7) A two-digit number is such that the product of the digits is 8. When\n",
    "18 is added to the number, then the digits are reversed. Find the\n",
    "number.**\n",
    "\n",
    "**Ans:** The number is 26"
   ]
  },
  {
   "cell_type": "markdown",
   "id": "cd08b91a",
   "metadata": {},
   "source": [
    "**8) The product of 4 consecutive even numbers is always divisible by\n",
    "which of the largest number?**\n",
    "\n",
    "**Ans:** The product of 4 consecutive even numbers is always divisible by 48 (the\n",
    "largest number)."
   ]
  },
  {
   "cell_type": "code",
   "execution_count": null,
   "id": "c21d1cb7",
   "metadata": {},
   "outputs": [],
   "source": []
  }
 ],
 "metadata": {
  "kernelspec": {
   "display_name": "Python 3 (ipykernel)",
   "language": "python",
   "name": "python3"
  },
  "language_info": {
   "codemirror_mode": {
    "name": "ipython",
    "version": 3
   },
   "file_extension": ".py",
   "mimetype": "text/x-python",
   "name": "python",
   "nbconvert_exporter": "python",
   "pygments_lexer": "ipython3",
   "version": "3.9.7"
  }
 },
 "nbformat": 4,
 "nbformat_minor": 5
}
