{
 "cells": [
  {
   "cell_type": "markdown",
   "id": "526118eb",
   "metadata": {},
   "source": [
    "## Assignment 1 Solutions"
   ]
  },
  {
   "cell_type": "markdown",
   "id": "c5bf7e38",
   "metadata": {},
   "source": [
    "## Q1. Write a Python program to reverse a string without using any built-in string reversal functions.\n",
    "Ans:"
   ]
  },
  {
   "cell_type": "code",
   "execution_count": 11,
   "id": "0c96f6e2",
   "metadata": {},
   "outputs": [],
   "source": [
    "def reverse_string(string):\n",
    "    reversed_string = ''\n",
    "    for char in string:\n",
    "        reversed_string = char + reversed_string\n",
    "    return reversed_string"
   ]
  },
  {
   "cell_type": "code",
   "execution_count": 15,
   "id": "49f63cd7",
   "metadata": {},
   "outputs": [
    {
     "name": "stdout",
     "output_type": "stream",
     "text": [
      "Enter a string: 12\n",
      "Reversed string: 21\n"
     ]
    }
   ],
   "source": [
    "# Test the function\n",
    "input_string = input(\"Enter a string: \")\n",
    "reversed_string = reverse_string(input_string)\n",
    "print(\"Reversed string:\", reversed_string)"
   ]
  },
  {
   "cell_type": "markdown",
   "id": "a6c34ba2",
   "metadata": {},
   "source": [
    "## Q2. Implement a function to check if a given string is a palindrome."
   ]
  },
  {
   "cell_type": "code",
   "execution_count": 21,
   "id": "3edc4fff",
   "metadata": {},
   "outputs": [],
   "source": [
    "def is_palindrome(string):\n",
    "    # Remove whitespace and convert to lowercase\n",
    "    string = string.replace(\" \", \"\").lower()\n",
    "    # Reverse the string\n",
    "    reversed_string = string[::-1]\n",
    "    # Check if the original and reversed strings are the same\n",
    "    return string == reversed_string"
   ]
  },
  {
   "cell_type": "code",
   "execution_count": 25,
   "id": "adb76d89",
   "metadata": {},
   "outputs": [
    {
     "name": "stdout",
     "output_type": "stream",
     "text": [
      "Enter a string: \n",
      "The string is a palindrome.\n"
     ]
    }
   ],
   "source": [
    "# Test the function\n",
    "input_string = input(\"Enter a string: \")\n",
    "if is_palindrome(input_string):\n",
    "    print(\"The string is a palindrome.\")\n",
    "else:\n",
    "    print(\"The string is not a palindrome.\")"
   ]
  },
  {
   "cell_type": "markdown",
   "id": "d16f0dfb",
   "metadata": {},
   "source": [
    "## Q3. Write a program to find the largest element in a given list."
   ]
  },
  {
   "cell_type": "code",
   "execution_count": 47,
   "id": "c41acebc",
   "metadata": {},
   "outputs": [],
   "source": [
    "def find_largest_element(lst):\n",
    "    if len(lst) == 0:\n",
    "        return None\n",
    "\n",
    "    largest = lst[0]\n",
    "    for element in lst:\n",
    "        if element > largest:\n",
    "            largest = element\n",
    "\n",
    "    return largest"
   ]
  },
  {
   "cell_type": "code",
   "execution_count": 51,
   "id": "a1b72c8a",
   "metadata": {},
   "outputs": [
    {
     "name": "stdout",
     "output_type": "stream",
     "text": [
      "Largest element: 81\n"
     ]
    }
   ],
   "source": [
    "# Test the function\n",
    "input_list = [12, 45, 67, 23, 9, 81]\n",
    "largest_element = find_largest_element(input_list)\n",
    "print(\"Largest element:\", largest_element)"
   ]
  },
  {
   "cell_type": "markdown",
   "id": "047319db",
   "metadata": {},
   "source": [
    "## Q4. Implement a function to count the occurrence of each element in a list."
   ]
  },
  {
   "cell_type": "code",
   "execution_count": 64,
   "id": "f2ed8598",
   "metadata": {},
   "outputs": [],
   "source": [
    "def count_occurrences(lst):\n",
    "    occurrence_count = {}\n",
    "    for element in lst:\n",
    "        if element in occurrence_count:\n",
    "            occurrence_count[element] += 1\n",
    "        else:\n",
    "            occurrence_count[element] = 1\n",
    "    return occurrence_count"
   ]
  },
  {
   "cell_type": "code",
   "execution_count": 69,
   "id": "6427da61",
   "metadata": {},
   "outputs": [
    {
     "name": "stdout",
     "output_type": "stream",
     "text": [
      "Occurrence count: {1: 3, 2: 3, 3: 2, 4: 1, 5: 1}\n"
     ]
    }
   ],
   "source": [
    "# Test the function\n",
    "input_list = [1, 2, 3, 4, 2, 3, 1, 1, 5, 2]\n",
    "occurrence_count = count_occurrences(input_list)\n",
    "print(\"Occurrence count:\", occurrence_count)"
   ]
  },
  {
   "cell_type": "markdown",
   "id": "818d4038",
   "metadata": {},
   "source": [
    "## Q5.  Write a Python program to find the second largest number in a list."
   ]
  },
  {
   "cell_type": "code",
   "execution_count": 86,
   "id": "50e887e1",
   "metadata": {},
   "outputs": [],
   "source": [
    "def find_second_largest(lst):\n",
    "    if len(lst) < 2:\n",
    "        return None\n",
    "\n",
    "    largest = float('-inf')\n",
    "    second_largest = float('-inf')\n",
    "\n",
    "    for num in lst:\n",
    "        if num > largest:\n",
    "            second_largest = largest\n",
    "            largest = num\n",
    "        elif num > second_largest and num != largest:\n",
    "            second_largest = num\n",
    "\n",
    "    return second_largest"
   ]
  },
  {
   "cell_type": "code",
   "execution_count": 94,
   "id": "8c584a9c",
   "metadata": {},
   "outputs": [
    {
     "name": "stdout",
     "output_type": "stream",
     "text": [
      "Second largest number: 67\n"
     ]
    }
   ],
   "source": [
    "# Test the function\n",
    "input_list = [12, 45, 67, 23, 9, 81]\n",
    "second_largest = find_second_largest(input_list)\n",
    "print(\"Second largest number:\", second_largest)"
   ]
  },
  {
   "cell_type": "markdown",
   "id": "8e67f858",
   "metadata": {},
   "source": [
    "## Q6. Implement a function to remove duplicate elements from a list."
   ]
  },
  {
   "cell_type": "code",
   "execution_count": 101,
   "id": "0f920d1a",
   "metadata": {},
   "outputs": [
    {
     "name": "stdout",
     "output_type": "stream",
     "text": [
      "List after removing duplicates: [1, 2, 3, 4, 5]\n"
     ]
    }
   ],
   "source": [
    "def remove_duplicates(lst):\n",
    "    return list(set(lst))\n",
    "\n",
    "# Test the function\n",
    "input_list = [1, 2, 3, 2, 4, 3, 5, 1]\n",
    "result = remove_duplicates(input_list)\n",
    "print(\"List after removing duplicates:\", result)"
   ]
  },
  {
   "cell_type": "markdown",
   "id": "0f6a8305",
   "metadata": {},
   "source": [
    "## Q7. Write a program to calculate the factorial of a given number."
   ]
  },
  {
   "cell_type": "code",
   "execution_count": 109,
   "id": "675e84d7",
   "metadata": {},
   "outputs": [],
   "source": [
    "def factorial(n):\n",
    "    if n < 0:\n",
    "        return None\n",
    "    elif n == 0:\n",
    "        return 1\n",
    "    else:\n",
    "        result = 1\n",
    "        for i in range(1, n + 1):\n",
    "            result *= i\n",
    "        return result"
   ]
  },
  {
   "cell_type": "code",
   "execution_count": 115,
   "id": "a5126858",
   "metadata": {},
   "outputs": [
    {
     "name": "stdout",
     "output_type": "stream",
     "text": [
      "Enter a number: 12\n",
      "Factorial of 12 is 479001600\n"
     ]
    }
   ],
   "source": [
    "# Test the function\n",
    "input_number = int(input(\"Enter a number: \"))\n",
    "factorial_result = factorial(input_number)\n",
    "if factorial_result is None:\n",
    "    print(\"Factorial is not defined for negative numbers.\")\n",
    "else:\n",
    "    print(\"Factorial of\", input_number, \"is\", factorial_result)"
   ]
  },
  {
   "cell_type": "markdown",
   "id": "d4cee470",
   "metadata": {},
   "source": [
    "## Q8. Implement a function to check if a given number is prime"
   ]
  },
  {
   "cell_type": "code",
   "execution_count": 126,
   "id": "2c47863c",
   "metadata": {},
   "outputs": [],
   "source": [
    "def is_prime(number):\n",
    "    if number < 2:\n",
    "        return False\n",
    "\n",
    "    for i in range(2, int(number**0.5) + 1):\n",
    "        if number % i == 0:\n",
    "            return False\n",
    "\n",
    "    return True"
   ]
  },
  {
   "cell_type": "code",
   "execution_count": 136,
   "id": "9ffd0c15",
   "metadata": {},
   "outputs": [
    {
     "name": "stdout",
     "output_type": "stream",
     "text": [
      "Enter a number: 23\n",
      "23 is a prime number.\n"
     ]
    }
   ],
   "source": [
    "# Test the function\n",
    "input_number = int(input(\"Enter a number: \"))\n",
    "if is_prime(input_number):\n",
    "    print(input_number, \"is a prime number.\")\n",
    "else:\n",
    "    print(input_number, \"is not a prime number.\")"
   ]
  },
  {
   "cell_type": "markdown",
   "id": "208fa606",
   "metadata": {},
   "source": [
    "## Q9. Write a Python program to sort a list of integers in ascending order."
   ]
  },
  {
   "cell_type": "code",
   "execution_count": 145,
   "id": "c0154f96",
   "metadata": {},
   "outputs": [
    {
     "name": "stdout",
     "output_type": "stream",
     "text": [
      "Sorted list: [1, 2, 3, 5, 7, 8, 9]\n"
     ]
    }
   ],
   "source": [
    "def sort_list(lst):\n",
    "    return sorted(lst)\n",
    "\n",
    "# Test the function\n",
    "input_list = [9, 5, 2, 7, 1, 8, 3]\n",
    "sorted_list = sort_list(input_list)\n",
    "print(\"Sorted list:\", sorted_list)"
   ]
  },
  {
   "cell_type": "markdown",
   "id": "9891b734",
   "metadata": {},
   "source": [
    "## Q10.  Implement a function to find the sum of all numbers in a list."
   ]
  },
  {
   "cell_type": "code",
   "execution_count": 151,
   "id": "2ae6f240",
   "metadata": {},
   "outputs": [
    {
     "name": "stdout",
     "output_type": "stream",
     "text": [
      "Sum of numbers: 15\n"
     ]
    }
   ],
   "source": [
    "def find_sum(lst):\n",
    "    total = 0\n",
    "    for num in lst:\n",
    "        total += num\n",
    "    return total\n",
    "\n",
    "# Test the function\n",
    "input_list = [1, 2, 3, 4, 5]\n",
    "sum_of_numbers = find_sum(input_list)\n",
    "print(\"Sum of numbers:\", sum_of_numbers)"
   ]
  },
  {
   "cell_type": "markdown",
   "id": "f1d5913e",
   "metadata": {},
   "source": [
    "## Q11.  Write a program to find the common elements between two lists."
   ]
  },
  {
   "cell_type": "code",
   "execution_count": 157,
   "id": "70391c89",
   "metadata": {},
   "outputs": [
    {
     "name": "stdout",
     "output_type": "stream",
     "text": [
      "Common elements: [4, 5]\n"
     ]
    }
   ],
   "source": [
    "def find_common_elements(list1, list2):\n",
    "    common_elements = []\n",
    "    for element in list1:\n",
    "        if element in list2:\n",
    "            common_elements.append(element)\n",
    "    return common_elements\n",
    "\n",
    "# Test the function\n",
    "list1 = [1, 2, 3, 4, 5]\n",
    "list2 = [4, 5, 6, 7, 8]\n",
    "common_elements = find_common_elements(list1, list2)\n",
    "print(\"Common elements:\", common_elements)"
   ]
  },
  {
   "cell_type": "markdown",
   "id": "8853dc95",
   "metadata": {},
   "source": [
    "## Q12. Implement a function to check if a given string is an anagram of another string."
   ]
  },
  {
   "cell_type": "code",
   "execution_count": 165,
   "id": "ff162d6b",
   "metadata": {},
   "outputs": [],
   "source": [
    "def is_anagram(string1, string2):\n",
    "    # Remove whitespace and convert to lowercase\n",
    "    string1 = string1.replace(\" \", \"\").lower()\n",
    "    string2 = string2.replace(\" \", \"\").lower()\n",
    "\n",
    "    # Check if the lengths are different\n",
    "    if len(string1) != len(string2):\n",
    "        return False\n",
    "\n",
    "    # Count the frequency of characters in string1\n",
    "    char_count = {}\n",
    "    for char in string1:\n",
    "        if char in char_count:\n",
    "            char_count[char] += 1\n",
    "        else:\n",
    "            char_count[char] = 1\n",
    "\n",
    "    # Compare the character count with string2\n",
    "    for char in string2:\n",
    "        if char in char_count:\n",
    "            char_count[char] -= 1\n",
    "            if char_count[char] == 0:\n",
    "                del char_count[char]\n",
    "        else:\n",
    "            return False\n",
    "\n",
    "    return len(char_count) == 0"
   ]
  },
  {
   "cell_type": "code",
   "execution_count": 178,
   "id": "3a9569e8",
   "metadata": {},
   "outputs": [
    {
     "name": "stdout",
     "output_type": "stream",
     "text": [
      "Enter the first string: \"anagram\"\n",
      "Enter the second string: \"nagaram\"\n",
      "The strings are anagrams.\n"
     ]
    }
   ],
   "source": [
    "input_string1 = input(\"Enter the first string: \")\n",
    "input_string2 = input(\"Enter the second string: \")\n",
    "if is_anagram(input_string1, input_string2):\n",
    "    print(\"The strings are anagrams.\")\n",
    "else:\n",
    "    print(\"The strings are not anagrams.\")"
   ]
  },
  {
   "cell_type": "markdown",
   "id": "2d8216b0",
   "metadata": {},
   "source": [
    "## Q13. Write a Python program to generate all permutations of a given string."
   ]
  },
  {
   "cell_type": "code",
   "execution_count": 186,
   "id": "63f97426",
   "metadata": {},
   "outputs": [],
   "source": [
    "def permute_string(string):\n",
    "    if len(string) == 0:\n",
    "        return []\n",
    "\n",
    "    if len(string) == 1:\n",
    "        return [string]\n",
    "\n",
    "    permutations = []\n",
    "\n",
    "    for i in range(len(string)):\n",
    "        current_char = string[i]\n",
    "\n",
    "        remaining_chars = string[:i] + string[i+1:]\n",
    "        sub_permutations = permute_string(remaining_chars)\n",
    "\n",
    "        for sub_permutation in sub_permutations:\n",
    "            permutations.append(current_char + sub_permutation)\n",
    "\n",
    "    return permutations"
   ]
  },
  {
   "cell_type": "code",
   "execution_count": 192,
   "id": "1b6a16cc",
   "metadata": {},
   "outputs": [
    {
     "name": "stdout",
     "output_type": "stream",
     "text": [
      "Enter a string: 77\n",
      "Permutations:\n",
      "77\n",
      "77\n"
     ]
    }
   ],
   "source": [
    "# Test the function\n",
    "input_string = input(\"Enter a string: \")\n",
    "permutations = permute_string(input_string)\n",
    "print(\"Permutations:\")\n",
    "for permutation in permutations:\n",
    "    print(permutation)"
   ]
  },
  {
   "cell_type": "markdown",
   "id": "8325da16",
   "metadata": {},
   "source": [
    "## Q14. Implement a function to calculate the Fibonacci sequence up to a given number of terms."
   ]
  },
  {
   "cell_type": "code",
   "execution_count": 196,
   "id": "867bb6d9",
   "metadata": {},
   "outputs": [],
   "source": [
    "def fibonacci_sequence(num_terms):\n",
    "    # Check for invalid input\n",
    "    if num_terms <= 0:\n",
    "        return []\n",
    "\n",
    "    # Initialize the sequence with the first two terms\n",
    "    sequence = [0, 1]\n",
    "\n",
    "    # Calculate the Fibonacci sequence\n",
    "    while len(sequence) < num_terms:\n",
    "        next_term = sequence[-1] + sequence[-2]\n",
    "        sequence.append(next_term)\n",
    "\n",
    "    return sequence"
   ]
  },
  {
   "cell_type": "code",
   "execution_count": 201,
   "id": "89bcac76",
   "metadata": {},
   "outputs": [
    {
     "name": "stdout",
     "output_type": "stream",
     "text": [
      "Enter the number of terms: 10\n",
      "Fibonacci sequence:\n",
      "[0, 1, 1, 2, 3, 5, 8, 13, 21, 34]\n"
     ]
    }
   ],
   "source": [
    "# Test the function\n",
    "input_terms = int(input(\"Enter the number of terms: \"))\n",
    "fibonacci_seq = fibonacci_sequence(input_terms)\n",
    "print(\"Fibonacci sequence:\")\n",
    "print(fibonacci_seq)"
   ]
  },
  {
   "cell_type": "markdown",
   "id": "f2e3bc2c",
   "metadata": {},
   "source": [
    "## Q15. Write a program to find the median of a list of numbers."
   ]
  },
  {
   "cell_type": "code",
   "execution_count": 214,
   "id": "31417aa3",
   "metadata": {},
   "outputs": [],
   "source": [
    "def find_median(numbers):\n",
    "    sorted_numbers = sorted(numbers)\n",
    "    n = len(sorted_numbers)\n",
    "    middle_index = n // 2\n",
    "\n",
    "    if n % 2 == 0:\n",
    "        # If the number of elements is even, average the middle two elements\n",
    "        median = (sorted_numbers[middle_index - 1] + sorted_numbers[middle_index]) / 2\n",
    "    else:\n",
    "        # If the number of elements is odd, take the middle element\n",
    "        median = sorted_numbers[middle_index]\n",
    "\n",
    "    return median"
   ]
  },
  {
   "cell_type": "code",
   "execution_count": 218,
   "id": "ba9ca26f",
   "metadata": {},
   "outputs": [
    {
     "name": "stdout",
     "output_type": "stream",
     "text": [
      "Median: 4.0\n"
     ]
    }
   ],
   "source": [
    "# Test the function\n",
    "input_numbers = [3, 1, 7, 5, 9, 2]\n",
    "median = find_median(input_numbers)\n",
    "print(\"Median:\", median)"
   ]
  },
  {
   "cell_type": "markdown",
   "id": "47173d9a",
   "metadata": {},
   "source": [
    "## Q16. Implement a function to check if a given list is sorted in non-decreasing order."
   ]
  },
  {
   "cell_type": "code",
   "execution_count": 227,
   "id": "9c43c802",
   "metadata": {},
   "outputs": [
    {
     "name": "stdout",
     "output_type": "stream",
     "text": [
      "The list is sorted in non-decreasing order.\n"
     ]
    }
   ],
   "source": [
    "def is_sorted(lst):\n",
    "    for i in range(len(lst) - 1):\n",
    "        if lst[i] > lst[i+1]:\n",
    "            return False\n",
    "    return True\n",
    "\n",
    "# Test the function\n",
    "input_list = [1, 2, 3, 4, 5]\n",
    "if is_sorted(input_list):\n",
    "    print(\"The list is sorted in non-decreasing order.\")\n",
    "else:\n",
    "    print(\"The list is not sorted in non-decreasing order.\")"
   ]
  },
  {
   "cell_type": "markdown",
   "id": "af7796b0",
   "metadata": {},
   "source": [
    "## Q17. . Write a Python program to find the intersection of two lists."
   ]
  },
  {
   "cell_type": "code",
   "execution_count": 237,
   "id": "2afb7faa",
   "metadata": {},
   "outputs": [
    {
     "name": "stdout",
     "output_type": "stream",
     "text": [
      "Intersection: [4, 5]\n"
     ]
    }
   ],
   "source": [
    "def find_intersection(list1, list2):\n",
    "    intersection = []\n",
    "    for element in list1:\n",
    "        if element in list2:\n",
    "            intersection.append(element)\n",
    "    return intersection\n",
    "\n",
    "# Test the function\n",
    "list1 = [1, 2, 3, 4, 5]\n",
    "list2 = [4, 5, 6, 7, 8]\n",
    "intersection = find_intersection(list1, list2)\n",
    "print(\"Intersection:\", intersection)"
   ]
  },
  {
   "cell_type": "markdown",
   "id": "c01b9e49",
   "metadata": {},
   "source": [
    "## Q18. Implement a function to find the maximum subarray sum in a given list."
   ]
  },
  {
   "cell_type": "code",
   "execution_count": 244,
   "id": "618d056d",
   "metadata": {},
   "outputs": [
    {
     "name": "stdout",
     "output_type": "stream",
     "text": [
      "Maximum subarray sum: 3\n"
     ]
    }
   ],
   "source": [
    "def find_max_subarray_sum(nums):\n",
    "    max_sum = float('-inf')\n",
    "    current_sum = 0\n",
    "\n",
    "    for num in nums:\n",
    "        current_sum = max(num, current_sum + num)\n",
    "        max_sum = max(max_sum, current_sum)\n",
    "\n",
    "    return max_sum\n",
    "\n",
    "# Test the function\n",
    "input_nums = [1, -3, 2, 1, -1]\n",
    "max_sum = find_max_subarray_sum(input_nums)\n",
    "print(\"Maximum subarray sum:\", max_sum)"
   ]
  },
  {
   "cell_type": "markdown",
   "id": "aa92ff9d",
   "metadata": {},
   "source": [
    "## Q19. Write a program to remove all vowels from a given string."
   ]
  },
  {
   "cell_type": "code",
   "execution_count": 4,
   "id": "e92de947",
   "metadata": {},
   "outputs": [
    {
     "name": "stdout",
     "output_type": "stream",
     "text": [
      "Enter a string: 10\n",
      "String without vowels: 10\n"
     ]
    }
   ],
   "source": [
    "def remove_vowels(string):\n",
    "    vowels = 'aeiouAEIOU'\n",
    "    without_vowels = ''\n",
    "\n",
    "    for char in string:\n",
    "        if char not in vowels:\n",
    "            without_vowels += char\n",
    "\n",
    "    return without_vowels\n",
    "\n",
    "# Test the function\n",
    "input_string = input(\"Enter a string: \")\n",
    "result = remove_vowels(input_string)\n",
    "print(\"String without vowels:\", result)"
   ]
  },
  {
   "cell_type": "markdown",
   "id": "c98073c0",
   "metadata": {},
   "source": [
    "## Q20. Implement a function to reverse the order of words in a given sentence"
   ]
  },
  {
   "cell_type": "code",
   "execution_count": 17,
   "id": "d8c6e78d",
   "metadata": {},
   "outputs": [
    {
     "name": "stdout",
     "output_type": "stream",
     "text": [
      "Enter a sentence: i Neuron\n",
      "Reversed sentence: Neuron i\n"
     ]
    }
   ],
   "source": [
    "def reverse_words(sentence):\n",
    "    words = sentence.split()\n",
    "    reversed_sentence = ' '.join(words[::-1])\n",
    "    return reversed_sentence\n",
    "\n",
    "# Test the function\n",
    "input_sentence = input(\"Enter a sentence: \")\n",
    "reversed_sentence = reverse_words(input_sentence)\n",
    "print(\"Reversed sentence:\", reversed_sentence)"
   ]
  },
  {
   "cell_type": "markdown",
   "id": "6fe96e92",
   "metadata": {},
   "source": [
    "## Q21. Write a Python program to check if two strings are anagrams of each other."
   ]
  },
  {
   "cell_type": "code",
   "execution_count": 23,
   "id": "ecdf937d",
   "metadata": {},
   "outputs": [],
   "source": [
    "def is_anagram(str1, str2):\n",
    "    str1 = str1.lower().replace(\" \", \"\")\n",
    "    str2 = str2.lower().replace(\" \", \"\")\n",
    "\n",
    "    if len(str1) != len(str2):\n",
    "        return False\n",
    "\n",
    "    count = {}\n",
    "\n",
    "    for char in str1:\n",
    "        if char in count:\n",
    "            count[char] += 1\n",
    "        else:\n",
    "            count[char] = 1\n",
    "\n",
    "    for char in str2:\n",
    "        if char in count:\n",
    "            count[char] -= 1\n",
    "        else:\n",
    "            return False\n",
    "\n",
    "    return all(value == 0 for value in count.values())"
   ]
  },
  {
   "cell_type": "code",
   "execution_count": 25,
   "id": "36d06d5c",
   "metadata": {},
   "outputs": [
    {
     "name": "stdout",
     "output_type": "stream",
     "text": [
      "Enter the first string: neuron i \n",
      "Enter the second string:  i neuron\n",
      "The strings are anagrams.\n"
     ]
    }
   ],
   "source": [
    "# Test the function\n",
    "input_str1 = input(\"Enter the first string: \")\n",
    "input_str2 = input(\"Enter the second string: \")\n",
    "\n",
    "if is_anagram(input_str1, input_str2):\n",
    "    print(\"The strings are anagrams.\")\n",
    "else:\n",
    "    print(\"The strings are not anagrams.\")"
   ]
  },
  {
   "cell_type": "markdown",
   "id": "71ffef3a",
   "metadata": {},
   "source": [
    "## Q22. Implement a function to find the first non-repeating character in a string."
   ]
  },
  {
   "cell_type": "code",
   "execution_count": 32,
   "id": "b3cefc1e",
   "metadata": {},
   "outputs": [],
   "source": [
    "def find_first_non_repeating_character(string):\n",
    "    count = {}\n",
    "    \n",
    "    for char in string:\n",
    "        if char in count:\n",
    "            count[char] += 1\n",
    "        else:\n",
    "            count[char] = 1\n",
    "\n",
    "    for char in string:\n",
    "        if count[char] == 1:\n",
    "            return char\n",
    "\n",
    "    return None"
   ]
  },
  {
   "cell_type": "code",
   "execution_count": 35,
   "id": "dc262a5b",
   "metadata": {},
   "outputs": [
    {
     "name": "stdout",
     "output_type": "stream",
     "text": [
      "Enter a string: ASA\n",
      "First non-repeating character: S\n"
     ]
    }
   ],
   "source": [
    "# Test the function\n",
    "input_string = input(\"Enter a string: \")\n",
    "result = find_first_non_repeating_character(input_string)\n",
    "\n",
    "if result:\n",
    "    print(\"First non-repeating character:\", result)\n",
    "else:\n",
    "    print(\"No non-repeating character found.\")"
   ]
  },
  {
   "cell_type": "markdown",
   "id": "4412749e",
   "metadata": {},
   "source": [
    "## Q23. Write a program to find the prime factors of a given number."
   ]
  },
  {
   "cell_type": "code",
   "execution_count": 40,
   "id": "57a07295",
   "metadata": {},
   "outputs": [],
   "source": [
    "def find_prime_factors(n):\n",
    "    prime_factors = []\n",
    "    i = 2\n",
    "\n",
    "    while i <= n:\n",
    "        if n % i == 0:\n",
    "            prime_factors.append(i)\n",
    "            n //= i\n",
    "        else:\n",
    "            i += 1\n",
    "\n",
    "    return prime_factors"
   ]
  },
  {
   "cell_type": "code",
   "execution_count": 45,
   "id": "985e7a36",
   "metadata": {},
   "outputs": [
    {
     "name": "stdout",
     "output_type": "stream",
     "text": [
      "Enter a number: 4\n",
      "Prime factors: [2, 2]\n"
     ]
    }
   ],
   "source": [
    "# Test the function\n",
    "input_number = int(input(\"Enter a number: \"))\n",
    "prime_factors = find_prime_factors(input_number)\n",
    "print(\"Prime factors:\", prime_factors)"
   ]
  },
  {
   "cell_type": "markdown",
   "id": "b78295ec",
   "metadata": {},
   "source": [
    "## Q24. Implement a function to check if a given number is a power of two."
   ]
  },
  {
   "cell_type": "code",
   "execution_count": 50,
   "id": "e88f5207",
   "metadata": {},
   "outputs": [],
   "source": [
    "def is_power_of_two(n):\n",
    "    if n <= 0:\n",
    "        return False\n",
    "\n",
    "    while n % 2 == 0:\n",
    "        n //= 2\n",
    "\n",
    "    return n == 1"
   ]
  },
  {
   "cell_type": "code",
   "execution_count": 53,
   "id": "a569351f",
   "metadata": {},
   "outputs": [
    {
     "name": "stdout",
     "output_type": "stream",
     "text": [
      "Enter a number: 1\n",
      "The number is a power of two.\n"
     ]
    }
   ],
   "source": [
    "# Test the function\n",
    "input_number = int(input(\"Enter a number: \"))\n",
    "if is_power_of_two(input_number):\n",
    "    print(\"The number is a power of two.\")\n",
    "else:\n",
    "    print(\"The number is not a power of two.\")"
   ]
  },
  {
   "cell_type": "markdown",
   "id": "3707dcf3",
   "metadata": {},
   "source": [
    "## Q25. Write a Python program to merge two sorted lists into a single sorted list."
   ]
  },
  {
   "cell_type": "code",
   "execution_count": 62,
   "id": "61aa53e7",
   "metadata": {},
   "outputs": [],
   "source": [
    "def merge_sorted_lists(list1, list2):\n",
    "    merged_list = []\n",
    "    i = 0\n",
    "    j = 0\n",
    "\n",
    "    while i < len(list1) and j < len(list2):\n",
    "        if list1[i] <= list2[j]:\n",
    "            merged_list.append(list1[i])\n",
    "            i += 1\n",
    "        else:\n",
    "            merged_list.append(list2[j])\n",
    "            j += 1\n",
    "\n",
    "    while i < len(list1):\n",
    "        merged_list.append(list1[i])\n",
    "        i += 1\n",
    "\n",
    "    while j < len(list2):\n",
    "        merged_list.append(list2[j])\n",
    "        j += 1\n",
    "\n",
    "    return merged_list"
   ]
  },
  {
   "cell_type": "code",
   "execution_count": 67,
   "id": "62b2f5e5",
   "metadata": {},
   "outputs": [
    {
     "name": "stdout",
     "output_type": "stream",
     "text": [
      "Merged and sorted list: [1, 2, 3, 4, 6, 7, 8, 9]\n"
     ]
    }
   ],
   "source": [
    "# Test the function\n",
    "input_list1 = [1, 4, 7, 9]\n",
    "input_list2 = [2, 3, 6, 8]\n",
    "merged_list = merge_sorted_lists(input_list1, input_list2)\n",
    "print(\"Merged and sorted list:\", merged_list)"
   ]
  },
  {
   "cell_type": "markdown",
   "id": "5dbf5a8c",
   "metadata": {},
   "source": [
    "## Q26. Implement a function to find the mode of a list of numbers."
   ]
  },
  {
   "cell_type": "code",
   "execution_count": 72,
   "id": "e2dadbe6",
   "metadata": {},
   "outputs": [],
   "source": [
    "from collections import Counter\n",
    "\n",
    "def find_mode(numbers):\n",
    "    # Count the occurrences of each number\n",
    "    count = Counter(numbers)\n",
    "\n",
    "    # Find the maximum occurrence count\n",
    "    max_count = max(count.values())\n",
    "\n",
    "    # Find all numbers with the maximum occurrence count\n",
    "    mode = [num for num, freq in count.items() if freq == max_count]\n",
    "\n",
    "    return mode"
   ]
  },
  {
   "cell_type": "code",
   "execution_count": 76,
   "id": "096dc2af",
   "metadata": {},
   "outputs": [
    {
     "name": "stdout",
     "output_type": "stream",
     "text": [
      "Mode(s): [4]\n"
     ]
    }
   ],
   "source": [
    "# Test the function\n",
    "input_numbers = [1, 2, 3, 2, 4, 1, 2, 4, 5, 4, 4]\n",
    "mode = find_mode(input_numbers)\n",
    "print(\"Mode(s):\", mode)"
   ]
  },
  {
   "cell_type": "markdown",
   "id": "f4be2cb2",
   "metadata": {},
   "source": [
    "## Q27. Write a program to find the greatest common divisor (GCD) of two numbers."
   ]
  },
  {
   "cell_type": "code",
   "execution_count": 81,
   "id": "6627633f",
   "metadata": {},
   "outputs": [
    {
     "name": "stdout",
     "output_type": "stream",
     "text": [
      "Enter the first number: 7\n",
      "Enter the second number: 6\n",
      "GCD: 1\n"
     ]
    }
   ],
   "source": [
    "def find_gcd(a, b):\n",
    "    while b != 0:\n",
    "        a, b = b, a % b\n",
    "\n",
    "    return a\n",
    "\n",
    "# Test the function\n",
    "input_num1 = int(input(\"Enter the first number: \"))\n",
    "input_num2 = int(input(\"Enter the second number: \"))\n",
    "gcd = find_gcd(input_num1, input_num2)\n",
    "print(\"GCD:\", gcd)"
   ]
  },
  {
   "cell_type": "markdown",
   "id": "929dbb86",
   "metadata": {},
   "source": [
    "## Q28. Implement a function to calculate the square root of a given number."
   ]
  },
  {
   "cell_type": "code",
   "execution_count": 82,
   "id": "54ce66d9",
   "metadata": {},
   "outputs": [],
   "source": [
    "def calculate_square_root(n):\n",
    "    if n < 0:\n",
    "        return None\n",
    "\n",
    "    # Initial guess\n",
    "    guess = n / 2\n",
    "\n",
    "    # Iterate until convergence\n",
    "    while True:\n",
    "        new_guess = (guess + n / guess) / 2\n",
    "        if abs(new_guess - guess) < 1e-9:\n",
    "            break\n",
    "        guess = new_guess\n",
    "\n",
    "    return new_guess"
   ]
  },
  {
   "cell_type": "code",
   "execution_count": 86,
   "id": "3087bd0e",
   "metadata": {},
   "outputs": [
    {
     "name": "stdout",
     "output_type": "stream",
     "text": [
      "Enter a number: 4\n",
      "Square root: 2.0\n"
     ]
    }
   ],
   "source": [
    "# Test the function\n",
    "input_number = float(input(\"Enter a number: \"))\n",
    "square_root = calculate_square_root(input_number)\n",
    "\n",
    "if square_root is None:\n",
    "    print(\"Invalid input: Cannot calculate square root of a negative number.\")\n",
    "else:\n",
    "    print(\"Square root:\", square_root)"
   ]
  },
  {
   "cell_type": "markdown",
   "id": "7ca09291",
   "metadata": {},
   "source": [
    "## 29. Write a Python program to check if a given string is a valid palindrome ignoring non-alphanumeric characters."
   ]
  },
  {
   "cell_type": "code",
   "execution_count": 91,
   "id": "895cc378",
   "metadata": {},
   "outputs": [
    {
     "name": "stdout",
     "output_type": "stream",
     "text": [
      "Enter a string: 7\n",
      "The string is a valid palindrome.\n"
     ]
    }
   ],
   "source": [
    "import re\n",
    "\n",
    "def is_valid_palindrome(string):\n",
    "    # Remove non-alphanumeric characters and convert to lowercase\n",
    "    cleaned_string = re.sub(r'[^a-zA-Z0-9]', '', string).lower()\n",
    "\n",
    "    # Check if the cleaned string is a palindrome\n",
    "    return cleaned_string == cleaned_string[::-1]\n",
    "\n",
    "# Test the function\n",
    "input_string = input(\"Enter a string: \")\n",
    "if is_valid_palindrome(input_string):\n",
    "    print(\"The string is a valid palindrome.\")\n",
    "else:\n",
    "    print(\"The string is not a valid palindrome.\")"
   ]
  },
  {
   "cell_type": "markdown",
   "id": "c6b4fcca",
   "metadata": {},
   "source": [
    "## Q30. Implement a function to find the minimum element in a rotated sorted list"
   ]
  },
  {
   "cell_type": "code",
   "execution_count": 107,
   "id": "9c9014e3",
   "metadata": {},
   "outputs": [],
   "source": [
    "def find_minimum(rotated_list):\n",
    "    left = 0\n",
    "    right = len(rotated_list) - 1\n",
    "\n",
    "    while left < right:\n",
    "        mid = (left + right) // 2\n",
    "\n",
    "        # If mid element is greater than the rightmost element,\n",
    "        # the minimum element is in the right half\n",
    "        if rotated_list[mid] > rotated_list[right]:\n",
    "            left = mid + 1\n",
    "        # If mid element is smaller than the rightmost element,\n",
    "        # the minimum element is in the left half or could be mid itself\n",
    "        elif rotated_list[mid] < rotated_list[right]:\n",
    "            right = mid\n",
    "        # If mid element is equal to the rightmost element,\n",
    "        else:\n",
    "            right -= 1\n",
    "\n",
    "    # The left pointer will point to the minimum element\n",
    "    return rotated_list[left]"
   ]
  },
  {
   "cell_type": "code",
   "execution_count": 110,
   "id": "9b4106de",
   "metadata": {},
   "outputs": [
    {
     "name": "stdout",
     "output_type": "stream",
     "text": [
      "Minimum element: 0\n"
     ]
    }
   ],
   "source": [
    "# Test the function\n",
    "input_list = [4, 5, 6, 7, 0, 1, 2]\n",
    "minimum = find_minimum(input_list)\n",
    "print(\"Minimum element:\", minimum)"
   ]
  },
  {
   "cell_type": "markdown",
   "id": "815f1e3d",
   "metadata": {},
   "source": [
    "## Q31. Write a program to find the sum of all even numbers in a list."
   ]
  },
  {
   "cell_type": "code",
   "execution_count": 118,
   "id": "87910bc3",
   "metadata": {},
   "outputs": [
    {
     "name": "stdout",
     "output_type": "stream",
     "text": [
      "Sum of even numbers: 30\n"
     ]
    }
   ],
   "source": [
    "def sum_even_numbers(numbers):\n",
    "    even_sum = 0\n",
    "\n",
    "    for num in numbers:\n",
    "        if num % 2 == 0:\n",
    "            even_sum += num\n",
    "\n",
    "    return even_sum\n",
    "\n",
    "# Test the function\n",
    "input_numbers = [1, 2, 3, 4, 5, 6, 7, 8, 9, 10]\n",
    "sum_of_evens = sum_even_numbers(input_numbers)\n",
    "print(\"Sum of even numbers:\", sum_of_evens)"
   ]
  },
  {
   "cell_type": "markdown",
   "id": "44b1a9b7",
   "metadata": {},
   "source": [
    "## Q32. Implement a function to calculate the power of a number using recursion."
   ]
  },
  {
   "cell_type": "code",
   "execution_count": 121,
   "id": "0c936f49",
   "metadata": {},
   "outputs": [
    {
     "name": "stdout",
     "output_type": "stream",
     "text": [
      "Enter the base: 6\n",
      "Enter the exponent: 5\n",
      "Result: 7776.0\n"
     ]
    }
   ],
   "source": [
    "def power(base, exponent):\n",
    "    if exponent == 0:\n",
    "        return 1\n",
    "    elif exponent < 0:\n",
    "        return 1 / power(base, -exponent)\n",
    "    else:\n",
    "        return base * power(base, exponent - 1)\n",
    "\n",
    "# Test the function\n",
    "input_base = float(input(\"Enter the base: \"))\n",
    "input_exponent = int(input(\"Enter the exponent: \"))\n",
    "result = power(input_base, input_exponent)\n",
    "print(\"Result:\", result)"
   ]
  },
  {
   "cell_type": "markdown",
   "id": "86f522b4",
   "metadata": {},
   "source": [
    "## Q33. Write a Python program to remove duplicates from a list while preserving the order."
   ]
  },
  {
   "cell_type": "code",
   "execution_count": 124,
   "id": "2be44509",
   "metadata": {},
   "outputs": [
    {
     "name": "stdout",
     "output_type": "stream",
     "text": [
      "List with duplicates removed: [1, 2, 3, 4, 5, 6]\n"
     ]
    }
   ],
   "source": [
    "def remove_duplicates(lst):\n",
    "    seen = set()\n",
    "    result = []\n",
    "\n",
    "    for item in lst:\n",
    "        if item not in seen:\n",
    "            seen.add(item)\n",
    "            result.append(item)\n",
    "\n",
    "    return result\n",
    "\n",
    "# Test the function\n",
    "input_list = [1, 2, 3, 2, 4, 3, 5, 6, 5, 4]\n",
    "updated_list = remove_duplicates(input_list)\n",
    "print(\"List with duplicates removed:\", updated_list)"
   ]
  },
  {
   "cell_type": "markdown",
   "id": "7592fc85",
   "metadata": {},
   "source": [
    "## Q34.  Implement a function to find the longest common prefix among a list of strings."
   ]
  },
  {
   "cell_type": "code",
   "execution_count": 130,
   "id": "1cf51dbf",
   "metadata": {},
   "outputs": [
    {
     "name": "stdout",
     "output_type": "stream",
     "text": [
      "Longest common prefix: fl\n"
     ]
    }
   ],
   "source": [
    "def longest_common_prefix(strings):\n",
    "    if not strings:\n",
    "        return \"\"\n",
    "\n",
    "    shortest_string = min(strings, key=len)\n",
    "    prefix = \"\"\n",
    "\n",
    "    for i in range(len(shortest_string)):\n",
    "        if all(string[i] == shortest_string[i] for string in strings):\n",
    "            prefix += shortest_string[i]\n",
    "        else:\n",
    "            break\n",
    "\n",
    "    return prefix\n",
    "\n",
    "# Test the function\n",
    "input_strings = [\"flower\", \"flow\", \"flight\"]\n",
    "common_prefix = longest_common_prefix(input_strings)\n",
    "print(\"Longest common prefix:\", common_prefix)"
   ]
  },
  {
   "cell_type": "markdown",
   "id": "2aa0b699",
   "metadata": {},
   "source": [
    "## Q35. Write a program to check if a given number is a perfect square."
   ]
  },
  {
   "cell_type": "code",
   "execution_count": 136,
   "id": "f489a56b",
   "metadata": {},
   "outputs": [],
   "source": [
    "def is_perfect_square(num):\n",
    "    if num < 0:\n",
    "        return False\n",
    "\n",
    "    if num == 0:\n",
    "        return True\n",
    "\n",
    "    left = 1\n",
    "    right = num\n",
    "\n",
    "    while left <= right:\n",
    "        mid = (left + right) // 2\n",
    "        square = mid * mid\n",
    "\n",
    "        if square == num:\n",
    "            return True\n",
    "        elif square < num:\n",
    "            left = mid + 1\n",
    "        else:\n",
    "            right = mid - 1\n",
    "\n",
    "    return False"
   ]
  },
  {
   "cell_type": "code",
   "execution_count": 138,
   "id": "cac4b5ab",
   "metadata": {},
   "outputs": [
    {
     "name": "stdout",
     "output_type": "stream",
     "text": [
      "Enter a number: 1\n",
      "The number is a perfect square.\n"
     ]
    }
   ],
   "source": [
    "# Test the function\n",
    "input_number = int(input(\"Enter a number: \"))\n",
    "if is_perfect_square(input_number):\n",
    "    print(\"The number is a perfect square.\")\n",
    "else:\n",
    "    print(\"The number is not a perfect square.\")"
   ]
  },
  {
   "cell_type": "markdown",
   "id": "64f74d8a",
   "metadata": {},
   "source": [
    "## Q36. Implement a function to calculate the product of all elements in a list"
   ]
  },
  {
   "cell_type": "code",
   "execution_count": 143,
   "id": "a95f2151",
   "metadata": {},
   "outputs": [
    {
     "name": "stdout",
     "output_type": "stream",
     "text": [
      "Product of all elements: 120\n"
     ]
    }
   ],
   "source": [
    "def calculate_product(lst):\n",
    "    product = 1\n",
    "\n",
    "    for num in lst:\n",
    "        product *= num\n",
    "\n",
    "    return product\n",
    "\n",
    "# Test the function\n",
    "input_list = [2, 3, 4, 5]\n",
    "result = calculate_product(input_list)\n",
    "print(\"Product of all elements:\", result)"
   ]
  },
  {
   "cell_type": "markdown",
   "id": "75ce35d0",
   "metadata": {},
   "source": [
    "## Q37. Write a Python program to reverse the order of words in a sentence while preserving the word order"
   ]
  },
  {
   "cell_type": "code",
   "execution_count": 147,
   "id": "f2fa25cb",
   "metadata": {},
   "outputs": [
    {
     "name": "stdout",
     "output_type": "stream",
     "text": [
      "Enter a sentence: bye say\n",
      "Reversed sentence: say bye\n"
     ]
    }
   ],
   "source": [
    "def reverse_words(sentence):\n",
    "    words = sentence.split()\n",
    "    reversed_words = words[::-1]\n",
    "    reversed_sentence = \" \".join(reversed_words)\n",
    "    return reversed_sentence\n",
    "\n",
    "# Test the function\n",
    "input_sentence = input(\"Enter a sentence: \")\n",
    "reversed_sentence = reverse_words(input_sentence)\n",
    "print(\"Reversed sentence:\", reversed_sentence)"
   ]
  },
  {
   "cell_type": "markdown",
   "id": "030940ae",
   "metadata": {},
   "source": [
    "## Q38 Implement a function to find the missing number in a given list of consecutive numbers."
   ]
  },
  {
   "cell_type": "code",
   "execution_count": 154,
   "id": "2bd25041",
   "metadata": {},
   "outputs": [
    {
     "name": "stdout",
     "output_type": "stream",
     "text": [
      "Missing number: 4\n"
     ]
    }
   ],
   "source": [
    "def find_missing_number(numbers):\n",
    "    n = len(numbers) + 1\n",
    "    total_sum = (n * (n + 1)) // 2\n",
    "    actual_sum = sum(numbers)\n",
    "    missing_number = total_sum - actual_sum\n",
    "    return missing_number\n",
    "\n",
    "# Test the function\n",
    "input_numbers = [1, 2, 3, 5, 6, 7, 8, 9, 10]\n",
    "missing_number = find_missing_number(input_numbers)\n",
    "print(\"Missing number:\", missing_number)"
   ]
  },
  {
   "cell_type": "markdown",
   "id": "da152b1c",
   "metadata": {},
   "source": [
    "## Q39. Write a program to find the sum of digits of a given number."
   ]
  },
  {
   "cell_type": "code",
   "execution_count": 159,
   "id": "538faf2c",
   "metadata": {},
   "outputs": [
    {
     "name": "stdout",
     "output_type": "stream",
     "text": [
      "Enter a number: 77\n",
      "Sum of digits: 14\n"
     ]
    }
   ],
   "source": [
    "def sum_of_digits(number):\n",
    "    digit_sum = 0\n",
    "\n",
    "    while number > 0:\n",
    "        digit_sum += number % 10\n",
    "        number //= 10\n",
    "\n",
    "    return digit_sum\n",
    "\n",
    "# Test the function\n",
    "input_number = int(input(\"Enter a number: \"))\n",
    "sum_of_digits = sum_of_digits(input_number)\n",
    "print(\"Sum of digits:\", sum_of_digits)"
   ]
  },
  {
   "cell_type": "markdown",
   "id": "d7935a13",
   "metadata": {},
   "source": [
    "## Q40. Implement a function to check if a given string is a valid palindrome considering case sensitivity."
   ]
  },
  {
   "cell_type": "code",
   "execution_count": 164,
   "id": "a993fc5f",
   "metadata": {},
   "outputs": [
    {
     "name": "stdout",
     "output_type": "stream",
     "text": [
      "Enter a string: 3\n",
      "The string is a valid palindrome.\n"
     ]
    }
   ],
   "source": [
    "def is_valid_palindrome(string):\n",
    "    # Remove non-alphanumeric characters\n",
    "    cleaned_string = ''.join(char.lower() for char in string if char.isalnum())\n",
    "\n",
    "    # Check if the cleaned string is a palindrome\n",
    "    return cleaned_string == cleaned_string[::-1]\n",
    "\n",
    "# Test the function\n",
    "input_string = input(\"Enter a string: \")\n",
    "if is_valid_palindrome(input_string):\n",
    "    print(\"The string is a valid palindrome.\")\n",
    "else:\n",
    "    print(\"The string is not a valid palindrome.\")"
   ]
  },
  {
   "cell_type": "markdown",
   "id": "1a21fdf2",
   "metadata": {},
   "source": [
    "## Q41. Write a Python program to find the smallest missing positive integer in a list"
   ]
  },
  {
   "cell_type": "code",
   "execution_count": 174,
   "id": "fbd8b145",
   "metadata": {},
   "outputs": [],
   "source": [
    "def find_smallest_missing_positive(numbers):\n",
    "    n = len(numbers)\n",
    "\n",
    "    j = 0\n",
    "    for i in range(n):\n",
    "        if numbers[i] > 0:\n",
    "            numbers[i], numbers[j] = numbers[j], numbers[i]\n",
    "            j += 1\n",
    "\n",
    "    for i in range(j):\n",
    "        num = abs(numbers[i])\n",
    "        if num <= j:\n",
    "            numbers[num - 1] = -abs(numbers[num - 1])\n",
    "\n",
    "    for i in range(j):\n",
    "        if numbers[i] > 0:\n",
    "            return i + 1\n",
    "\n",
    "    return j + 1"
   ]
  },
  {
   "cell_type": "code",
   "execution_count": 181,
   "id": "8bb1bcb0",
   "metadata": {},
   "outputs": [
    {
     "name": "stdout",
     "output_type": "stream",
     "text": [
      "Smallest missing positive integer: 2\n"
     ]
    }
   ],
   "source": [
    "# Test the function\n",
    "input_numbers = [3, 4, -1, 1]\n",
    "smallest_missing = find_smallest_missing_positive(input_numbers)\n",
    "print(\"Smallest missing positive integer:\", smallest_missing)"
   ]
  },
  {
   "cell_type": "markdown",
   "id": "61d1e7e7",
   "metadata": {},
   "source": [
    "## Q42. Implement a function to find the longest palindrome substring in a given string."
   ]
  },
  {
   "cell_type": "code",
   "execution_count": 190,
   "id": "e918bf65",
   "metadata": {},
   "outputs": [],
   "source": [
    "def longest_palindrome_substring(string):\n",
    "    if len(string) < 2:\n",
    "        return string\n",
    "\n",
    "    longest_palindrome = \"\"\n",
    "\n",
    "    for i in range(len(string)):\n",
    "        # Check odd length palindromes\n",
    "        palindrome_odd = expand_around_center(string, i, i)\n",
    "        longest_palindrome = max(palindrome_odd, longest_palindrome, key=len)\n",
    "\n",
    "        # Check even length palindromes\n",
    "        palindrome_even = expand_around_center(string, i, i + 1)\n",
    "        longest_palindrome = max(palindrome_even, longest_palindrome, key=len)\n",
    "\n",
    "    return longest_palindrome\n",
    "\n",
    "def expand_around_center(string, left, right):\n",
    "    while left >= 0 and right < len(string) and string[left] == string[right]:\n",
    "        left -= 1\n",
    "        right += 1\n",
    "\n",
    "    return string[left + 1 : right]"
   ]
  },
  {
   "cell_type": "code",
   "execution_count": 193,
   "id": "6d55b20b",
   "metadata": {},
   "outputs": [
    {
     "name": "stdout",
     "output_type": "stream",
     "text": [
      "Enter a string: 67\n",
      "Longest palindrome substring: 7\n"
     ]
    }
   ],
   "source": [
    "# Test the function\n",
    "input_string = input(\"Enter a string: \")\n",
    "longest_palindrome = longest_palindrome_substring(input_string)\n",
    "print(\"Longest palindrome substring:\", longest_palindrome)"
   ]
  },
  {
   "cell_type": "markdown",
   "id": "1befbe72",
   "metadata": {},
   "source": [
    "## Q43. Write a program to find the number of occurrences of a given element in a list."
   ]
  },
  {
   "cell_type": "code",
   "execution_count": 202,
   "id": "6fcf8ae1",
   "metadata": {},
   "outputs": [
    {
     "name": "stdout",
     "output_type": "stream",
     "text": [
      "Number of occurrences: 3\n"
     ]
    }
   ],
   "source": [
    "def count_occurrences(lst, element):\n",
    "    count = 0\n",
    "\n",
    "    for item in lst:\n",
    "        if item == element:\n",
    "            count += 1\n",
    "\n",
    "    return count\n",
    "\n",
    "# Test the function\n",
    "input_list = [1, 2, 3, 4, 2, 5, 2, 6]\n",
    "input_element = 2\n",
    "occurrences = count_occurrences(input_list, input_element)\n",
    "print(\"Number of occurrences:\", occurrences)"
   ]
  },
  {
   "cell_type": "markdown",
   "id": "ac0bedec",
   "metadata": {},
   "source": [
    "## Q44. Implement a function to check if a given number is a perfect number."
   ]
  },
  {
   "cell_type": "code",
   "execution_count": 222,
   "id": "b314486a",
   "metadata": {},
   "outputs": [
    {
     "name": "stdout",
     "output_type": "stream",
     "text": [
      "Enter a number: 1\n",
      "The number is not a perfect number.\n"
     ]
    }
   ],
   "source": [
    "def is_perfect_number(number):\n",
    "    if number <= 0:\n",
    "        return False\n",
    "\n",
    "    divisors_sum = 0\n",
    "\n",
    "    for i in range(1, number):\n",
    "        if number % i == 0:\n",
    "            divisors_sum += i\n",
    "\n",
    "    return divisors_sum == number\n",
    "\n",
    "# Test the function\n",
    "input_number = int(input(\"Enter a number: \"))\n",
    "if is_perfect_number(input_number):\n",
    "    print(\"The number is a perfect number.\")\n",
    "else:\n",
    "    print(\"The number is not a perfect number.\")"
   ]
  },
  {
   "cell_type": "markdown",
   "id": "7de1aafc",
   "metadata": {},
   "source": [
    "## Q45. Write a Python program to remove all duplicates from a string."
   ]
  },
  {
   "cell_type": "code",
   "execution_count": 233,
   "id": "71d1d030",
   "metadata": {},
   "outputs": [
    {
     "name": "stdout",
     "output_type": "stream",
     "text": [
      "Enter a string: 1771\n",
      "String with duplicates removed: 17\n"
     ]
    }
   ],
   "source": [
    "def remove_duplicates(string):\n",
    "    unique_chars = []\n",
    "\n",
    "    for char in string:\n",
    "        if char not in unique_chars:\n",
    "            unique_chars.append(char)\n",
    "\n",
    "    return ''.join(unique_chars)\n",
    "\n",
    "# Test the function\n",
    "input_string = input(\"Enter a string: \")\n",
    "updated_string = remov/e_duplicates(input_string)\n",
    "print(\"String with duplicates removed:\", updated_string)"
   ]
  },
  {
   "cell_type": "markdown",
   "id": "4964ac97",
   "metadata": {},
   "source": [
    "## Q46. Implement a function to find the first missing positive"
   ]
  },
  {
   "cell_type": "code",
   "execution_count": 239,
   "id": "a11f6631",
   "metadata": {},
   "outputs": [],
   "source": [
    "def find_first_missing_positive(nums):\n",
    "    n = len(nums)\n",
    "\n",
    "    i = 0\n",
    "    for j in range(n):\n",
    "        if nums[j] > 0:\n",
    "            nums[i], nums[j] = nums[j], nums[i]\n",
    "            i += 1\n",
    "\n",
    "    for j in range(i):\n",
    "        num = abs(nums[j])\n",
    "        if num <= i:\n",
    "            nums[num - 1] = -abs(nums[num - 1])\n",
    "\n",
    "    for j in range(i):\n",
    "        if nums[j] > 0:\n",
    "            return j + 1\n",
    "\n",
    "    return i + 1"
   ]
  },
  {
   "cell_type": "code",
   "execution_count": 243,
   "id": "66095476",
   "metadata": {},
   "outputs": [
    {
     "name": "stdout",
     "output_type": "stream",
     "text": [
      "First missing positive: 2\n"
     ]
    }
   ],
   "source": [
    "# Test the function\n",
    "input_nums = [3, 4, -1, 1]\n",
    "missing_positive = find_first_missing_positive(input_nums)\n",
    "print(\"First missing positive:\", missing_positive)"
   ]
  },
  {
   "cell_type": "code",
   "execution_count": null,
   "id": "19abbe08",
   "metadata": {},
   "outputs": [],
   "source": []
  }
 ],
 "metadata": {
  "kernelspec": {
   "display_name": "Python 3 (ipykernel)",
   "language": "python",
   "name": "python3"
  },
  "language_info": {
   "codemirror_mode": {
    "name": "ipython",
    "version": 3
   },
   "file_extension": ".py",
   "mimetype": "text/x-python",
   "name": "python",
   "nbconvert_exporter": "python",
   "pygments_lexer": "ipython3",
   "version": "3.9.7"
  }
 },
 "nbformat": 4,
 "nbformat_minor": 5
}
